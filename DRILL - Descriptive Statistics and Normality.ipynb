{
 "cells": [
  {
   "cell_type": "code",
   "execution_count": 1,
   "metadata": {},
   "outputs": [],
   "source": [
    "import numpy as np\n",
    "import statistics\n",
    "import pandas as pd\n",
    "import matplotlib.pyplot as plt\n",
    "%matplotlib inline"
   ]
  },
  {
   "cell_type": "markdown",
   "metadata": {},
   "source": [
    "Let's choose six distrubtions from Numpy\n",
    " 1. exponential([scale, size])\n",
    " 2. lognormal([mean, sigma, size])\n",
    " 3. rayleigh([scale, size])\n",
    " 4. poisson([lam, size])\n",
    " 5. laplace([loc, scale, size])\n",
    " 6. gumbel([loc, scale, size])"
   ]
  },
  {
   "cell_type": "code",
   "execution_count": 4,
   "metadata": {},
   "outputs": [
    {
     "data": {
      "image/png": "[encoded data removed]",
      "text/plain": [
       "<Figure size 432x288 with 1 Axes>"
      ]
     },
     "metadata": {
      "needs_background": "light"
     },
     "output_type": "display_data"
    }
   ],
   "source": [
    "# Exponential Distribution\n",
    "\n",
    "# Generate an Exponential distribution with scale 5\n",
    "exponential = np.random.exponential(5, 100)\n",
    "\n",
    "#Plot a histogram\n",
    "plt.hist(exponential)\n",
    "\n",
    "#Print the histogram\n",
    "plt.show()"
   ]
  },
  {
   "cell_type": "code",
   "execution_count": 16,
   "metadata": {},
   "outputs": [
    {
     "name": "stdout",
     "output_type": "stream",
     "text": [
      "5.009900120698354\n",
      "5.618820169804033\n"
     ]
    },
    {
     "data": {
      "text/plain": [
       "<matplotlib.lines.Line2D at 0x114c25be0>"
      ]
     },
     "execution_count": 16,
     "metadata": {},
     "output_type": "execute_result"
    },
    {
     "data": {
      "image/png": "[encoded data removed]",
      "text/plain": [
       "<Figure size 432x288 with 1 Axes>"
      ]
     },
     "metadata": {
      "needs_background": "light"
     },
     "output_type": "display_data"
    }
   ],
   "source": [
    "# Calculate the Mean\n",
    "mean = np.mean(exponential)\n",
    "print(mean)\n",
    "\n",
    "# Calculate the sample Standard deviation\n",
    "std = np.std(exponential, ddof=1)\n",
    "print(std)\n",
    "\n",
    "#Now we reprint the histogram with vertical lines at the mean and 1 standard deviation from the mean\n",
    "plt.hist(exponential, color='c')\n",
    "\n",
    "# Add a vertical line at the mean.\n",
    "plt.axvline(exponential.mean(), color='b', linestyle='solid', linewidth=2)\n",
    "\n",
    "# Add a vertical line at one standard deviation above the mean.\n",
    "plt.axvline(exponential.mean() + exponential.std(), color='b', linestyle='dashed', linewidth=2)\n",
    "\n",
    "# Add a vertical line at one standard deviation below the mean.\n",
    "plt.axvline(exponential.mean()-exponential.std(), color='b', linestyle='dashed', linewidth=2) \n"
   ]
  },
  {
   "cell_type": "markdown",
   "metadata": {},
   "source": [
    "The data of the exponential distribution isn't normal, so standard deviation and mean are unhelpful,\n",
    "since the data increases in an (inherently) exponential way, such extremes make the mean and standard deviation\n",
    "obsolete in accuraretly allowing us to make informed conclusions or summaries of the data"
   ]
  },
  {
   "cell_type": "code",
   "execution_count": 22,
   "metadata": {},
   "outputs": [
    {
     "name": "stdout",
     "output_type": "stream",
     "text": [
      "436312.8932636452\n",
      "1891987.4613891006\n"
     ]
    },
    {
     "data": {
      "image/png": "[encoded data removed]",
      "text/plain": [
       "<Figure size 432x288 with 1 Axes>"
      ]
     },
     "metadata": {
      "needs_background": "light"
     },
     "output_type": "display_data"
    }
   ],
   "source": [
    "# Logonormal Distribution\n",
    "\n",
    "# Generate a logonormal distribution with mean 5 and sigma 5\n",
    "lognormal = np.random.lognormal(5, 5, 100)\n",
    "\n",
    "#Print out the mean and standard deviation\n",
    "mean = np.mean(lognormal)\n",
    "print(mean)\n",
    "\n",
    "std = np.std(lognormal)\n",
    "print(std)\n",
    "\n",
    "#Plot a histogram\n",
    "plt.hist(lognormal)\n",
    "\n",
    "# Add a vertical line at the mean.\n",
    "plt.axvline(mean, color='b', linestyle='solid', linewidth=2)\n",
    "\n",
    "# Add a vertical line at one standard deviation above the mean.\n",
    "plt.axvline(mean + std, color='b', linestyle='dashed', linewidth=2)\n",
    "\n",
    "# Add a vertical line at one standard deviation below the mean.\n",
    "plt.axvline(mean - std, color='b', linestyle='dashed', linewidth=2) \n",
    "\n",
    "#Print the histogram\n",
    "plt.show()"
   ]
  },
  {
   "cell_type": "markdown",
   "metadata": {},
   "source": [
    "Note that the mean and standard deviation are not the values for the distribution itself, but of the underlying normal distribution it is derived from. "
   ]
  },
  {
   "cell_type": "code",
   "execution_count": 19,
   "metadata": {},
   "outputs": [
    {
     "name": "stdout",
     "output_type": "stream",
     "text": [
      "6.885449378592085\n",
      "3.9062498063914863\n"
     ]
    },
    {
     "data": {
      "image/png": "[encoded data removed]",
      "text/plain": [
       "<Figure size 432x288 with 1 Axes>"
      ]
     },
     "metadata": {
      "needs_background": "light"
     },
     "output_type": "display_data"
    }
   ],
   "source": [
    "# Rayleigh Distribution\n",
    "\n",
    "# Generate a Rayleigh distribution with scale 5\n",
    "rayleigh = np.random.rayleigh(5, 100)\n",
    "\n",
    "#Print out the mean and standard deviation\n",
    "mean = np.mean(rayleigh)\n",
    "print(mean)\n",
    "\n",
    "std = np.std(rayleigh)\n",
    "print(std)\n",
    "\n",
    "#Plot a histogram\n",
    "plt.hist(rayleigh)\n",
    "\n",
    "# Add a vertical line at the mean.\n",
    "plt.axvline(mean, color='b', linestyle='solid', linewidth=2)\n",
    "\n",
    "# Add a vertical line at one standard deviation above the mean.\n",
    "plt.axvline(mean + std, color='b', linestyle='dashed', linewidth=2)\n",
    "\n",
    "# Add a vertical line at one standard deviation below the mean.\n",
    "plt.axvline(mean-std, color='b', linestyle='dashed', linewidth=2) \n",
    "\n",
    "#Print the histogram\n",
    "plt.show()"
   ]
  },
  {
   "cell_type": "markdown",
   "metadata": {},
   "source": [
    "Another case of data that is not normally distributed, which means that the mean and standard deviation no longer give us valuable information"
   ]
  },
  {
   "cell_type": "code",
   "execution_count": 25,
   "metadata": {},
   "outputs": [
    {
     "name": "stdout",
     "output_type": "stream",
     "text": [
      "2.71\n",
      "1.6510299815569673\n"
     ]
    },
    {
     "data": {
      "image/png": "[encoded data removed]",
      "text/plain": [
       "<Figure size 432x288 with 1 Axes>"
      ]
     },
     "metadata": {
      "needs_background": "light"
     },
     "output_type": "display_data"
    }
   ],
   "source": [
    "# Poisson Distribution\n",
    "\n",
    "# Generate a Poisson distribution with lambda 3\n",
    "poisson = np.random.poisson(3, 100)\n",
    "\n",
    "#Print out the mean and standard deviation\n",
    "mean = np.mean(poisson)\n",
    "print(mean)\n",
    "\n",
    "std = np.std(poisson)\n",
    "print(std)\n",
    "\n",
    "#Plot a histogram\n",
    "plt.hist(poisson)\n",
    "\n",
    "# Add a vertical line at the mean.\n",
    "plt.axvline(mean, color='b', linestyle='solid', linewidth=2)\n",
    "\n",
    "# Add a vertical line at one standard deviation above the mean.\n",
    "plt.axvline(mean + std, color='b', linestyle='dashed', linewidth=2)\n",
    "\n",
    "# Add a vertical line at one standard deviation below the mean.\n",
    "plt.axvline(mean-std, color='b', linestyle='dashed', linewidth=2) \n",
    "\n",
    "#Print the histogram\n",
    "plt.show()"
   ]
  },
  {
   "cell_type": "markdown",
   "metadata": {},
   "source": [
    "Again, we don't have a normal distribution here, so mean and standard deviation are unhelpful for generalized summaries"
   ]
  },
  {
   "cell_type": "code",
   "execution_count": 41,
   "metadata": {},
   "outputs": [
    {
     "name": "stdout",
     "output_type": "stream",
     "text": [
      "32.54368237719563\n",
      "45.202358323242585\n"
     ]
    },
    {
     "data": {
      "image/png": "[encoded data removed]",
      "text/plain": [
       "<Figure size 432x288 with 1 Axes>"
      ]
     },
     "metadata": {
      "needs_background": "light"
     },
     "output_type": "display_data"
    }
   ],
   "source": [
    "# Laplace distribution\n",
    "\n",
    "\n",
    "# Generate a laplace distribution with default location and scale (0, 1)\n",
    "laplace = np.random.laplace([0, 1, 100])\n",
    "\n",
    "#Print out the mean and standard deviation\n",
    "mean = np.mean(laplace)\n",
    "print(mean)\n",
    "\n",
    "std = np.std(laplace)\n",
    "print(std)\n",
    "\n",
    "#Plot a histogram\n",
    "plt.hist(laplace)\n",
    "\n",
    "# Add a vertical line at the mean.\n",
    "plt.axvline(mean, color='b', linestyle='solid', linewidth=2)\n",
    "\n",
    "# Add a vertical line at one standard deviation above the mean.\n",
    "plt.axvline(mean + std, color='b', linestyle='dashed', linewidth=2)\n",
    "\n",
    "# Add a vertical line at one standard deviation below the mean.\n",
    "plt.axvline(mean-std, color='b', linestyle='dashed', linewidth=2) \n",
    "\n",
    "#Print the histogram\n",
    "plt.show()"
   ]
  },
  {
   "cell_type": "markdown",
   "metadata": {},
   "source": [
    "The laplace distribution is also known as the double exponential distribution, and therefore the mean and standard deviations give us little useful info"
   ]
  },
  {
   "cell_type": "code",
   "execution_count": 42,
   "metadata": {},
   "outputs": [
    {
     "name": "stdout",
     "output_type": "stream",
     "text": [
      "32.54368237719563\n",
      "45.202358323242585\n"
     ]
    },
    {
     "data": {
      "image/png": "[encoded data removed]",
      "text/plain": [
       "<Figure size 432x288 with 1 Axes>"
      ]
     },
     "metadata": {
      "needs_background": "light"
     },
     "output_type": "display_data"
    }
   ],
   "source": [
    "# Gumbel distribution\n",
    "\n",
    "# Generate a laplace distribution with default mode and scale (0, 1)\n",
    "gumbel = np.random.gumbel([0, 1, 100])\n",
    "\n",
    "#Print out the mean and standard deviation\n",
    "mean = np.mean(laplace)\n",
    "print(mean)\n",
    "\n",
    "std = np.std(laplace)\n",
    "print(std)\n",
    "\n",
    "#Plot a histogram\n",
    "plt.hist(laplace)\n",
    "\n",
    "# Add a vertical line at the mean.\n",
    "plt.axvline(mean, color='b', linestyle='solid', linewidth=2)\n",
    "\n",
    "# Add a vertical line at one standard deviation above the mean.\n",
    "plt.axvline(mean + std, color='b', linestyle='dashed', linewidth=2)\n",
    "\n",
    "# Add a vertical line at one standard deviation below the mean.\n",
    "plt.axvline(mean-std, color='b', linestyle='dashed', linewidth=2) \n",
    "\n",
    "#Print the histogram\n",
    "plt.show()\n"
   ]
  },
  {
   "cell_type": "code",
   "execution_count": 44,
   "metadata": {},
   "outputs": [
    {
     "data": {
      "image/png": "[encoded data removed]",
      "text/plain": [
       "<Figure size 432x288 with 1 Axes>"
      ]
     },
     "metadata": {
      "needs_background": "light"
     },
     "output_type": "display_data"
    }
   ],
   "source": [
    "normal1 = np.random.normal(5,.5, 100)\n",
    "normal2 = np.random.normal(10,1, 100)\n",
    "normal3 = normal1+normal2\n",
    "\n",
    "mean = np.mean(normal3)\n",
    "std = np.std(normal3)\n",
    "\n",
    "plt.hist(normal3, color='c')\n",
    "plt.axvline(x=mean,color='blue')\n",
    "plt.axvline(x=mean+std, color='blue')\n",
    "plt.axvline(x=mean-std, color='blue')\n",
    "plt.show()"
   ]
  },
  {
   "cell_type": "markdown",
   "metadata": {},
   "source": [
    "This graph shows a little bit of skew"
   ]
  }
 ],
 "metadata": {
  "kernelspec": {
   "display_name": "Python 3",
   "language": "python",
   "name": "python3"
  },
  "language_info": {
   "codemirror_mode": {
    "name": "ipython",
    "version": 3
   },
   "file_extension": ".py",
   "mimetype": "text/x-python",
   "name": "python",
   "nbconvert_exporter": "python",
   "pygments_lexer": "ipython3",
   "version": "3.7.1"
  }
 },
 "nbformat": 4,
 "nbformat_minor": 2
}
