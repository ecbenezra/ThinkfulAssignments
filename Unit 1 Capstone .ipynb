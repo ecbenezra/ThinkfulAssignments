{
 "cells": [
  {
   "cell_type": "markdown",
   "metadata": {},
   "source": [
    "# Thinkful Unit 1 Capstone\n",
    "#### By Eve Ben Ezra\n",
    "## Can we use data science to propose a way to reduce the amount of animals that are sent to a shelter? \n",
    "\n",
    "Using data from this kaggle set about an Austin animal shelter (https://www.kaggle.com/aaronschlegel/austin-animal-center-shelter-intakes-and-outcomes), I want to explore how many animals go to this shelter each month and year, why, and what their 'outcomes' are. \n",
    "\n",
    "It's well-known that animal shelters are often overcrowded. Due to overcrowding, each year many animals face euthanasia if they cannot be adopted out of a shelter. \n",
    "\n",
    "Reducing the number of animals that are sent to a shelter each year will result in more funds and space available for animals that do end up in shelters, hopefully leading to more positive outcomes and less euthanasia."
   ]
  },
  {
   "cell_type": "code",
   "execution_count": 1,
   "metadata": {},
   "outputs": [],
   "source": [
    "import pandas as pd\n",
    "import numpy as np\n",
    "import matplotlib.pyplot as plt\n",
    "import seaborn as sns\n",
    "import re #regular expressions\n",
    "import scipy.stats\n",
    "import datetime as dt\n",
    "%matplotlib inline"
   ]
  },
  {
   "cell_type": "code",
   "execution_count": 2,
   "metadata": {},
   "outputs": [
    {
     "data": {
      "text/html": [
       "<script>\n",
       "code_show=true; \n",
       "function code_toggle() {\n",
       " if (code_show){\n",
       " $('div.input').hide();\n",
       " } else {\n",
       " $('div.input').show();\n",
       " }\n",
       "code_show = !code_show\n",
       "} \n",
       "$( document ).ready(code_toggle);\n",
       "</script>\n",
       "The raw code for this Jupyter notebook is by default hidden for easier reading.\n",
       "To toggle on/off the raw code, click <a href=\"javascript:code_toggle()\">here</a>."
      ],
      "text/plain": [
       "<IPython.core.display.HTML object>"
      ]
     },
     "execution_count": 2,
     "metadata": {},
     "output_type": "execute_result"
    }
   ],
   "source": [
    "# Toggle code on or off\n",
    "\n",
    "from IPython.display import HTML\n",
    "HTML('''<script>\n",
    "code_show=true; \n",
    "function code_toggle() {\n",
    " if (code_show){\n",
    " $('div.input').hide();\n",
    " } else {\n",
    " $('div.input').show();\n",
    " }\n",
    "code_show = !code_show\n",
    "} \n",
    "$( document ).ready(code_toggle);\n",
    "</script>\n",
    "The raw code for this Jupyter notebook is by default hidden for easier reading.\n",
    "To toggle on/off the raw code, click <a href=\"javascript:code_toggle()\">here</a>.''')"
   ]
  },
  {
   "cell_type": "code",
   "execution_count": 3,
   "metadata": {},
   "outputs": [],
   "source": [
    "intakes_outcomes = pd.read_csv('aac_intakes_outcomes.csv')\n",
    "\n",
    "intakes = pd.read_csv('aac_intakes.csv')\n",
    "\n",
    "outcomes = pd.read_csv('aac_outcomes.csv')\n",
    "\n",
    "merge = [intakes_outcomes, intakes, outcomes]\n",
    "\n",
    "df = pd.concat(merge, sort=False)"
   ]
  },
  {
   "cell_type": "code",
   "execution_count": 4,
   "metadata": {
    "scrolled": false
   },
   "outputs": [
    {
     "data": {
      "text/html": [
       "<div>\n",
       "<style scoped>\n",
       "    .dataframe tbody tr th:only-of-type {\n",
       "        vertical-align: middle;\n",
       "    }\n",
       "\n",
       "    .dataframe tbody tr th {\n",
       "        vertical-align: top;\n",
       "    }\n",
       "\n",
       "    .dataframe thead th {\n",
       "        text-align: right;\n",
       "    }\n",
       "</style>\n",
       "<table border=\"1\" class=\"dataframe\">\n",
       "  <thead>\n",
       "    <tr style=\"text-align: right;\">\n",
       "      <th></th>\n",
       "      <th>age_upon_outcome</th>\n",
       "      <th>animal_id_outcome</th>\n",
       "      <th>date_of_birth</th>\n",
       "      <th>outcome_subtype</th>\n",
       "      <th>outcome_type</th>\n",
       "      <th>sex_upon_outcome</th>\n",
       "      <th>age_upon_outcome_(days)</th>\n",
       "      <th>age_upon_outcome_(years)</th>\n",
       "      <th>age_upon_outcome_age_group</th>\n",
       "      <th>outcome_datetime</th>\n",
       "      <th>...</th>\n",
       "      <th>age_upon_intake_age_group</th>\n",
       "      <th>intake_datetime</th>\n",
       "      <th>intake_month</th>\n",
       "      <th>intake_year</th>\n",
       "      <th>intake_monthyear</th>\n",
       "      <th>intake_weekday</th>\n",
       "      <th>intake_hour</th>\n",
       "      <th>intake_number</th>\n",
       "      <th>time_in_shelter</th>\n",
       "      <th>time_in_shelter_days</th>\n",
       "    </tr>\n",
       "  </thead>\n",
       "  <tbody>\n",
       "    <tr>\n",
       "      <th>0</th>\n",
       "      <td>10 years</td>\n",
       "      <td>A006100</td>\n",
       "      <td>2007-07-09 00:00:00</td>\n",
       "      <td>NaN</td>\n",
       "      <td>Return to Owner</td>\n",
       "      <td>Neutered Male</td>\n",
       "      <td>3650</td>\n",
       "      <td>10.0</td>\n",
       "      <td>(7.5, 10.0]</td>\n",
       "      <td>2017-12-07 14:07:00</td>\n",
       "      <td>...</td>\n",
       "      <td>(7.5, 10.0]</td>\n",
       "      <td>2017-12-07 00:00:00</td>\n",
       "      <td>12</td>\n",
       "      <td>2017</td>\n",
       "      <td>2017-12</td>\n",
       "      <td>Thursday</td>\n",
       "      <td>14</td>\n",
       "      <td>1.0</td>\n",
       "      <td>0 days 14:07:00.000000000</td>\n",
       "      <td>0.588194</td>\n",
       "    </tr>\n",
       "    <tr>\n",
       "      <th>1</th>\n",
       "      <td>7 years</td>\n",
       "      <td>A006100</td>\n",
       "      <td>2007-07-09 00:00:00</td>\n",
       "      <td>NaN</td>\n",
       "      <td>Return to Owner</td>\n",
       "      <td>Neutered Male</td>\n",
       "      <td>2555</td>\n",
       "      <td>7.0</td>\n",
       "      <td>(5.0, 7.5]</td>\n",
       "      <td>2014-12-20 16:35:00</td>\n",
       "      <td>...</td>\n",
       "      <td>(5.0, 7.5]</td>\n",
       "      <td>2014-12-19 10:21:00</td>\n",
       "      <td>12</td>\n",
       "      <td>2014</td>\n",
       "      <td>2014-12</td>\n",
       "      <td>Friday</td>\n",
       "      <td>10</td>\n",
       "      <td>2.0</td>\n",
       "      <td>1 days 06:14:00.000000000</td>\n",
       "      <td>1.259722</td>\n",
       "    </tr>\n",
       "    <tr>\n",
       "      <th>2</th>\n",
       "      <td>6 years</td>\n",
       "      <td>A006100</td>\n",
       "      <td>2007-07-09 00:00:00</td>\n",
       "      <td>NaN</td>\n",
       "      <td>Return to Owner</td>\n",
       "      <td>Neutered Male</td>\n",
       "      <td>2190</td>\n",
       "      <td>6.0</td>\n",
       "      <td>(5.0, 7.5]</td>\n",
       "      <td>2014-03-08 17:10:00</td>\n",
       "      <td>...</td>\n",
       "      <td>(5.0, 7.5]</td>\n",
       "      <td>2014-03-07 14:26:00</td>\n",
       "      <td>3</td>\n",
       "      <td>2014</td>\n",
       "      <td>2014-03</td>\n",
       "      <td>Friday</td>\n",
       "      <td>14</td>\n",
       "      <td>3.0</td>\n",
       "      <td>1 days 02:44:00.000000000</td>\n",
       "      <td>1.113889</td>\n",
       "    </tr>\n",
       "    <tr>\n",
       "      <th>3</th>\n",
       "      <td>10 years</td>\n",
       "      <td>A047759</td>\n",
       "      <td>2004-04-02 00:00:00</td>\n",
       "      <td>Partner</td>\n",
       "      <td>Transfer</td>\n",
       "      <td>Neutered Male</td>\n",
       "      <td>3650</td>\n",
       "      <td>10.0</td>\n",
       "      <td>(7.5, 10.0]</td>\n",
       "      <td>2014-04-07 15:12:00</td>\n",
       "      <td>...</td>\n",
       "      <td>(7.5, 10.0]</td>\n",
       "      <td>2014-04-02 15:55:00</td>\n",
       "      <td>4</td>\n",
       "      <td>2014</td>\n",
       "      <td>2014-04</td>\n",
       "      <td>Wednesday</td>\n",
       "      <td>15</td>\n",
       "      <td>1.0</td>\n",
       "      <td>4 days 23:17:00.000000000</td>\n",
       "      <td>4.970139</td>\n",
       "    </tr>\n",
       "    <tr>\n",
       "      <th>4</th>\n",
       "      <td>16 years</td>\n",
       "      <td>A134067</td>\n",
       "      <td>1997-10-16 00:00:00</td>\n",
       "      <td>NaN</td>\n",
       "      <td>Return to Owner</td>\n",
       "      <td>Neutered Male</td>\n",
       "      <td>5840</td>\n",
       "      <td>16.0</td>\n",
       "      <td>(15.0, 17.5]</td>\n",
       "      <td>2013-11-16 11:54:00</td>\n",
       "      <td>...</td>\n",
       "      <td>(15.0, 17.5]</td>\n",
       "      <td>2013-11-16 09:02:00</td>\n",
       "      <td>11</td>\n",
       "      <td>2013</td>\n",
       "      <td>2013-11</td>\n",
       "      <td>Saturday</td>\n",
       "      <td>9</td>\n",
       "      <td>1.0</td>\n",
       "      <td>0 days 02:52:00.000000000</td>\n",
       "      <td>0.119444</td>\n",
       "    </tr>\n",
       "  </tbody>\n",
       "</table>\n",
       "<p>5 rows × 41 columns</p>\n",
       "</div>"
      ],
      "text/plain": [
       "  age_upon_outcome animal_id_outcome        date_of_birth outcome_subtype  \\\n",
       "0         10 years           A006100  2007-07-09 00:00:00             NaN   \n",
       "1          7 years           A006100  2007-07-09 00:00:00             NaN   \n",
       "2          6 years           A006100  2007-07-09 00:00:00             NaN   \n",
       "3         10 years           A047759  2004-04-02 00:00:00         Partner   \n",
       "4         16 years           A134067  1997-10-16 00:00:00             NaN   \n",
       "\n",
       "      outcome_type sex_upon_outcome  age_upon_outcome_(days)  \\\n",
       "0  Return to Owner    Neutered Male                     3650   \n",
       "1  Return to Owner    Neutered Male                     2555   \n",
       "2  Return to Owner    Neutered Male                     2190   \n",
       "3         Transfer    Neutered Male                     3650   \n",
       "4  Return to Owner    Neutered Male                     5840   \n",
       "\n",
       "   age_upon_outcome_(years) age_upon_outcome_age_group     outcome_datetime  \\\n",
       "0                      10.0                (7.5, 10.0]  2017-12-07 14:07:00   \n",
       "1                       7.0                 (5.0, 7.5]  2014-12-20 16:35:00   \n",
       "2                       6.0                 (5.0, 7.5]  2014-03-08 17:10:00   \n",
       "3                      10.0                (7.5, 10.0]  2014-04-07 15:12:00   \n",
       "4                      16.0               (15.0, 17.5]  2013-11-16 11:54:00   \n",
       "\n",
       "          ...           age_upon_intake_age_group      intake_datetime  \\\n",
       "0         ...                         (7.5, 10.0]  2017-12-07 00:00:00   \n",
       "1         ...                          (5.0, 7.5]  2014-12-19 10:21:00   \n",
       "2         ...                          (5.0, 7.5]  2014-03-07 14:26:00   \n",
       "3         ...                         (7.5, 10.0]  2014-04-02 15:55:00   \n",
       "4         ...                        (15.0, 17.5]  2013-11-16 09:02:00   \n",
       "\n",
       "  intake_month intake_year  intake_monthyear  intake_weekday  intake_hour  \\\n",
       "0           12        2017           2017-12        Thursday           14   \n",
       "1           12        2014           2014-12          Friday           10   \n",
       "2            3        2014           2014-03          Friday           14   \n",
       "3            4        2014           2014-04       Wednesday           15   \n",
       "4           11        2013           2013-11        Saturday            9   \n",
       "\n",
       "   intake_number            time_in_shelter time_in_shelter_days  \n",
       "0            1.0  0 days 14:07:00.000000000             0.588194  \n",
       "1            2.0  1 days 06:14:00.000000000             1.259722  \n",
       "2            3.0  1 days 02:44:00.000000000             1.113889  \n",
       "3            1.0  4 days 23:17:00.000000000             4.970139  \n",
       "4            1.0  0 days 02:52:00.000000000             0.119444  \n",
       "\n",
       "[5 rows x 41 columns]"
      ]
     },
     "execution_count": 4,
     "metadata": {},
     "output_type": "execute_result"
    }
   ],
   "source": [
    "intakes_outcomes.head()"
   ]
  },
  {
   "cell_type": "code",
   "execution_count": null,
   "metadata": {
    "scrolled": true
   },
   "outputs": [
    {
     "data": {
      "text/plain": [
       "(240540, 46)"
      ]
     },
     "execution_count": 5,
     "metadata": {},
     "output_type": "execute_result"
    }
   ],
   "source": [
    "df.shape"
   ]
  },
  {
   "cell_type": "markdown",
   "metadata": {},
   "source": [
    "## Part 1: Exploring the Data\n"
   ]
  },
  {
   "cell_type": "markdown",
   "metadata": {},
   "source": [
    "### What Kind of Animals Are Brought To The Shelter?"
   ]
  },
  {
   "cell_type": "code",
   "execution_count": null,
   "metadata": {
    "scrolled": false
   },
   "outputs": [
    {
     "data": {
      "image/png": "[encoded data removed]",
      "text/plain": [
       "<Figure size 1296x432 with 2 Axes>"
      ]
     },
     "metadata": {
      "needs_background": "light"
     },
     "output_type": "display_data"
    }
   ],
   "source": [
    "animal_counts = df['animal_type'].value_counts()\n",
    "\n",
    "color_scheme = ['#F9F871','#FFD46D','#FFB286','#FF99A9','#D387AD','#FF90C9', \n",
    "                '#C790DD', '#838FE7', '#008FE2', '#008BCA', '#00819F', '#007467']\n",
    "\n",
    "Other = df[df['animal_type']=='Other']\n",
    "# Create the data for which kind of animals are included in the 'other' category\n",
    "Other1 = Other.groupby(['breed'])[['count']].sum().reset_index().sort_values(by='count', ascending=False).head(12)\n",
    "names1 = Other1['breed']\n",
    "size_of_groups1 = Other1['count']\n",
    "\n",
    "plt.figure(figsize=(18,6))\n",
    "\n",
    "plt.subplot(1, 2, 1)\n",
    "sns.barplot(animal_counts.index, animal_counts.values, palette=color_scheme)\n",
    "plt.title('Animals Brought To The Shelter (Total)', fontsize=14)\n",
    "plt.xlabel('Animal Type')\n",
    "\n",
    "plt.subplot(1, 2, 2)\n",
    "ax = plt.pie(size_of_groups1, labels=names1, autopct='%1.1f%%', pctdistance=1.12, labeldistance=1.27, colors=color_scheme)  \n",
    "my_circle = plt.Circle( (0,0), 0.7, color='white') # add a circle at the center\n",
    "p = plt.gcf()\n",
    "p.gca().add_artist(my_circle)\n",
    "plt.title('\\'Other\\' Animal Distribution (Top 12)', fontsize=14);\n"
   ]
  },
  {
   "cell_type": "markdown",
   "metadata": {},
   "source": [
    "Dogs and cats are the most common animals brought to the shelter. The 'other' category is made up of several types of animals, including bat mixes, bats, racoon mixes, rabbits, raccoons, and opposum mixes, upon others. "
   ]
  },
  {
   "cell_type": "code",
   "execution_count": null,
   "metadata": {
    "scrolled": false
   },
   "outputs": [],
   "source": [
    "#Clean the date data\n",
    "\n",
    "intakes.datetime = pd.to_datetime(intakes.datetime)\n",
    "intakes['date_only'] = [x.date() for x in intakes['datetime']]\n",
    "intakes['time_only'] = [x.time() for x in intakes['datetime']]\n",
    "intakes['year'] = [x.year for x in intakes['datetime']]\n",
    "intakes['month'] = [x.month for x in intakes['datetime']]\n",
    "intakes['count'] = 1"
   ]
  },
  {
   "cell_type": "markdown",
   "metadata": {},
   "source": [
    "### Have Intake Counts Changed Over the Years?"
   ]
  },
  {
   "cell_type": "code",
   "execution_count": null,
   "metadata": {
    "scrolled": false
   },
   "outputs": [],
   "source": [
    "# Calculate the Average Intake Per Month Per Year\n",
    "\n",
    "year_one = intakes.loc[lambda df: intakes['year'] == 2013, :]\n",
    "year_two = intakes.loc[lambda df: intakes['year'] == 2014, :]\n",
    "year_three = intakes.loc[lambda df: intakes['year'] == 2015, :]\n",
    "year_four = intakes.loc[lambda df: intakes['year'] == 2016, :]\n",
    "year_five = intakes.loc[lambda df: intakes['year'] == 2017, :]\n",
    "year_six = intakes.loc[lambda df: intakes['year'] == 2018, :]\n",
    "\n",
    "plt.figure(figsize=(40, 25))\n",
    "\n",
    "plt.subplot(3, 2, 1)\n",
    "sns.countplot(x='month', data=year_one, orient='v', palette=color_scheme)\n",
    "plt.title('Total Intake by Month - 2013', fontsize=20)\n",
    "plt.xlabel('Month', fontsize=16)\n",
    "plt.ylabel('Intakes', fontsize=16)\n",
    "plt.xticks(fontsize=16)\n",
    "plt.yticks(fontsize=16);\n",
    "\n",
    "plt.subplot(3, 2, 2)\n",
    "sns.countplot(x='month', data=year_two, orient='v', palette=color_scheme)\n",
    "plt.title('Total Intake by Month - 2014', fontsize=20)\n",
    "plt.xlabel('Month', fontsize=16)\n",
    "plt.ylabel('Intakes', fontsize=16)\n",
    "plt.xticks(fontsize=16)\n",
    "plt.yticks(fontsize=16);\n",
    "\n",
    "plt.subplot(3, 2, 3)\n",
    "sns.countplot(x='month', data=year_three, orient='v', palette=color_scheme)\n",
    "plt.title('Total Intake by Month - 2015', fontsize=20)\n",
    "plt.xlabel('Month', fontsize=16)\n",
    "plt.ylabel('Intakes', fontsize=16)\n",
    "plt.xticks(fontsize=16)\n",
    "plt.yticks(fontsize=16);\n",
    "\n",
    "plt.subplot(3, 2, 4)\n",
    "sns.countplot(x='month', data=year_four, orient='v', palette=color_scheme)\n",
    "plt.title('Total Intake by Month - 2016', fontsize=20)\n",
    "plt.xlabel('Month', fontsize=16)\n",
    "plt.ylabel('Intakes', fontsize=16)\n",
    "plt.xticks(fontsize=16)\n",
    "plt.yticks(fontsize=16);\n",
    "\n",
    "plt.subplot(3, 2, 5)\n",
    "sns.countplot(x='month', data=year_five, orient='v', palette=color_scheme)\n",
    "plt.title('Total Intake by Month - 2017', fontsize=20)\n",
    "plt.xlabel('Month', fontsize=16)\n",
    "plt.ylabel('Intakes', fontsize=16)\n",
    "plt.xticks(fontsize=16)\n",
    "plt.yticks(fontsize=16);\n",
    "\n",
    "plt.subplot(3, 2, 6)\n",
    "sns.countplot(x='month', data=year_six, orient='v', palette=color_scheme)\n",
    "plt.title('Total Intake by Month - 2018', fontsize=20)\n",
    "plt.xlabel('Month', fontsize=16)\n",
    "plt.ylabel('Intakes', fontsize=16)\n",
    "plt.xticks(fontsize=16)\n",
    "plt.yticks(fontsize=16);\n",
    "\n",
    "\n"
   ]
  },
  {
   "cell_type": "markdown",
   "metadata": {},
   "source": [
    "Intake appears to vary a bit by year, but mostly seems to remain stable. Intake amounts peak in summer and lower in winter. This result would make sense since more people are outside with their pets in the summer or have windows or doors open, allowing them more opportunities to escape than when the weather is very cold and people might stay inside more often."
   ]
  },
  {
   "cell_type": "markdown",
   "metadata": {},
   "source": [
    "### How old are the animals when they're brought to the shelter?"
   ]
  },
  {
   "cell_type": "code",
   "execution_count": null,
   "metadata": {
    "scrolled": false
   },
   "outputs": [],
   "source": [
    "# Explore the different types of animals in the shelter\n",
    "\n",
    "plt.figure(figsize=(15, 5))\n",
    "\n",
    "plt.subplot(1, 2, 1)\n",
    "sns.barplot(x='animal_type', y='age_upon_intake_(years)', data=df, palette=color_scheme)\n",
    "plt.title('Average Age Upon Intake')\n",
    "plt.xlabel('Animal Type')\n",
    "plt.ylabel('Age (Years)')\n",
    "\n",
    "# grouping dataset by anymal type and counting\n",
    "by_at = df.groupby(['animal_type'])[['count']].sum()\n",
    "\n",
    "\n",
    "plt.subplot(1, 2, 2)\n",
    "names = by_at.index\n",
    "size_of_groups = by_at['count']\n",
    "plt.pie(size_of_groups, colors = color_scheme, \n",
    "        autopct='%1.1f%%', pctdistance=1.15)  \n",
    "plt.title('Shelter Animal Type Distirbution (Total)')\n",
    "plt.legend(names, loc='upper left')\n",
    "plt.show()"
   ]
  },
  {
   "cell_type": "markdown",
   "metadata": {},
   "source": [
    "On average, animals brought to the shelter are quite young. This information could be skewed, of course, by newborns. Many young animals like kittens and puppies are brought to the shelter after their mother has a litter, which would impact the average age. \n",
    "\n",
    "Using this data, however, we can conclude that the average age of an animal at the shelter is under 3 years, regardless of species. Could this be because new animal owners are more likely to accidentally let their pet escape?"
   ]
  },
  {
   "cell_type": "markdown",
   "metadata": {},
   "source": [
    "### Why Do Animals Come to the Shelter? What are the Shelter Outcomes?"
   ]
  },
  {
   "cell_type": "code",
   "execution_count": null,
   "metadata": {
    "scrolled": false
   },
   "outputs": [],
   "source": [
    "# pie chart of shelter outcomes\n",
    "labels = [ 'Adoption', 'Other', 'Transfer', 'Return to Owner', 'Euthanasia'] \n",
    "other = (df['outcome_type'].value_counts()['Died'] \n",
    "        + df['outcome_type'].value_counts()['Rto-Adopt'] \n",
    "        + df['outcome_type'].value_counts()['Disposal']\n",
    "        + df['outcome_type'].value_counts()['Missing']\n",
    "        + df['outcome_type'].value_counts()['Relocate'])\n",
    "outcome = [df['outcome_type'].value_counts()['Adoption'],\n",
    "           other,\n",
    "         df['outcome_type'].value_counts()['Transfer'],\n",
    "         df['outcome_type'].value_counts()['Return to Owner'],\n",
    "         df['outcome_type'].value_counts()['Euthanasia'],\n",
    "         ]\n",
    "\n",
    "plt.figure(figsize=(15,5))\n",
    "\n",
    "\n",
    "#colors\n",
    "colors = ['#BAC5F2','#B0ACDD','#A792C6','#A078AC', '#995E90']\n",
    "explode = (0.05,0.05,0.05,0.05,0.05)\n",
    "\n",
    "#labels=labels,\n",
    "plt.subplot(1, 2, 2)\n",
    "plt.pie(outcome, colors = colors, autopct='%1.1f%%', startangle=90, pctdistance=1.15, labeldistance=1.4, explode=explode)\n",
    "plt.axis('equal')\n",
    "plt.title('Shelter Outcome Type',y=1.08)\n",
    "plt.legend(labels, loc='upper left')\n",
    "\n",
    "\n",
    "labels2 = ['Euthanasia Request', 'Owner Surrender', 'Public Assist', 'Wildlife', 'Stray'] \n",
    "intake = [df['intake_type'].value_counts()['Euthanasia Request'],\n",
    "         df['intake_type'].value_counts()['Owner Surrender'],\n",
    "         df['intake_type'].value_counts()['Public Assist'],\n",
    "         df['intake_type'].value_counts()['Wildlife'],\n",
    "         df['intake_type'].value_counts()['Stray']\n",
    "         ]\n",
    "\n",
    "\n",
    "#explosion\n",
    "explode = (0.05,0.05,0.05,0.05,0.05)\n",
    "plt.subplot(1, 2, 1)\n",
    "plt.pie(intake, colors = color_scheme, autopct='%1.2f%%', startangle=90, pctdistance=1.145, labeldistance=1.3, explode=explode)\n",
    "plt.axis('equal')  \n",
    "plt.legend(labels2, loc='upper right')\n",
    "plt.title('Shelter Intake Type', y=1.08)\n",
    "plt.show()"
   ]
  },
  {
   "cell_type": "markdown",
   "metadata": {},
   "source": [
    "The majority of animals brought to the shelter are strays, followed by owner surrenders. Thankfully, euthanasia makes up only 7.8% of shelter outcomes, while adoption and an animal being returned to their owner make up 72.1% of outcomes."
   ]
  },
  {
   "cell_type": "markdown",
   "metadata": {},
   "source": [
    "### How Long Do Animals Spend at the Shelter Before They Reach an Outcome?"
   ]
  },
  {
   "cell_type": "code",
   "execution_count": null,
   "metadata": {},
   "outputs": [],
   "source": [
    "# Clean Datetime to date\n",
    "intakes_outcomes.outcome_datetime = pd.to_datetime(intakes_outcomes.outcome_datetime)\n",
    "intakes_outcomes['outcome_date'] = [x.date() for x in intakes_outcomes['outcome_datetime']]\n",
    "intakes_outcomes['outcome_year'] = [x.year for x in intakes_outcomes['outcome_datetime']]"
   ]
  },
  {
   "cell_type": "code",
   "execution_count": null,
   "metadata": {},
   "outputs": [],
   "source": [
    "sns.lmplot(y='time_in_shelter_days', \n",
    "               x='intake_year',\n",
    "               hue='intake_type',\n",
    "               data=intakes_outcomes, # Data.\n",
    "               fit_reg=False,\n",
    "               height=7,\n",
    "               aspect=2,\n",
    "               palette = ['#D2BBF1','#A17DDB','#5184DD','#0086CC','#FAEAFF'],\n",
    "               scatter_kws={'alpha':0.4})\n",
    "plt.title('Time in Shelter by Intake Year and Type')\n",
    "plt.xlabel('Intake Year')\n",
    "plt.ylabel('Time in Shelter (Days)')\n",
    "\n",
    "plt.figure(figsize=(15,7))\n",
    "\n",
    "plt.subplot(1, 2, 1)\n",
    "sns.barplot(x='outcome_year', y='time_in_shelter_days', data=intakes_outcomes, palette=color_scheme)\n",
    "plt.title('Average Time Spent in Shelter by Year')\n",
    "plt.xticks(rotation='vertical')\n",
    "plt.xlabel('Year')\n",
    "plt.ylabel('Days Spent in Shelter')\n",
    "\n",
    "\n",
    "plt.subplot(1,2,2)\n",
    "sns.barplot(x='intake_condition', y='time_in_shelter_days', data=intakes_outcomes, palette=color_scheme)\n",
    "plt.title('Time Spent in Shelter by Intake Condition')\n",
    "plt.xticks(rotation='vertical')\n",
    "plt.xlabel('Intake Condition')\n",
    "plt.ylabel('Days Spent in Shelter')\n",
    "plt.show()"
   ]
  },
  {
   "cell_type": "markdown",
   "metadata": {},
   "source": [
    "On average, the length of time animals are spending at the shelter has been increasing since 2013. Sick animals have the shortest length of time between income and outcome. Animals with a 'pregnant' or 'other' intake condition spend the longest length of time, on average, at the shelter."
   ]
  },
  {
   "cell_type": "markdown",
   "metadata": {},
   "source": [
    "## Part 2: Propose an Experiment \n",
    "\n",
    "### The Problem\n",
    "\n",
    "Since 2013, the average length of time an animal spends at this Austin animal shelter are increasing. As well, rates that the animals are coming to the shelter have not decreased since 2013. Since shelters are overcrowded and underfunded, how can this shelter decrease the number of animals they get each month?\n",
    "\n",
    "This experiment is also operating on assumptions of Austin, given that this is one shelter within the city. Austin's population average and net income is increasing, therefore the assumption can be made that comparisons between previous and future metrics will be stable. \n",
    "\n",
    "### Hypothesis Proposal \n",
    "\n",
    "The shelter should start an ad campaign for current and prospective pet owners about the importance of training and chipping pets.\n",
    "\n",
    "### Rollout \n",
    "\n",
    "Focus should be on dog and cat owners. The shelter will put on a digital ad campagin. Additionally, local pet stores will be invited to sponsor the program and the shelter in return for having their business displayed within the shelter. Since 89% of animals who arrive at the shelter are either strays or owner-surrendered, the ad campaign will highlight the seriousness of properly training dogs, as well as chipping and monitoring pets. Part of the ad campaign will be offering incentives or discounts for microchipping pets, as well. New participants who either newly adopt an animal or train or microchip their animal with any given incentives will be asked to sign a form.\n",
    "\n",
    "### Evaluation \n",
    "\n",
    "The ad campaign will go on for one quarter. It will be set up as an A/B test, with the previous year's intake as the control group, and all intakes during the campaign will be counted as the test group, since not only potential new owners will be exposed to the campaign. Intakes at the shelter can be checked against microchip databases, giving metrics on where the animals are coming from, in order to help with reevaluation should the ad campaign continue. \n",
    "\n",
    "Other measured variables will include any event that may significantly increase pet or animal anxiety, such as the 4th of July, when fireworks cause many pets to escape their homes in fear of the loud noises, as well as any disasters such as a building fire.\n",
    "\n",
    "Key metrics are intake decrease for stray or owner-surrendered cats and dogs. If at the end of the quarter, shelter intake of this key metric decreases by 1/2 of a standard deviation or more, deem the ad campaign a success. If at the end of the quarter, shelter intake of this key metric does not decrease by 1/2 a standard deviation but does decrease by more than 1/4 of a standard deviation, evaluate and determine if the experiment is worth continuing. If so, continue the ad campaign for one more quarter. If after that quarter, shelter intake has not decreased by 1/2 of a standard deviation, terminate the ad campaign."
   ]
  }
 ],
 "metadata": {
  "kernelspec": {
   "display_name": "Python 3",
   "language": "python",
   "name": "python3"
  },
  "language_info": {
   "codemirror_mode": {
    "name": "ipython",
    "version": 3
   },
   "file_extension": ".py",
   "mimetype": "text/x-python",
   "name": "python",
   "nbconvert_exporter": "python",
   "pygments_lexer": "ipython3",
   "version": "3.7.2"
  }
 },
 "nbformat": 4,
 "nbformat_minor": 2
}
