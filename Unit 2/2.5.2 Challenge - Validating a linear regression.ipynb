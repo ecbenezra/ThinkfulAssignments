{
 "cells": [
  {
   "cell_type": "code",
   "execution_count": 1,
   "metadata": {},
   "outputs": [],
   "source": [
    "#Imports\n",
    "import math\n",
    "import warnings\n",
    "import numpy as np\n",
    "import pandas as pd\n",
    "\n",
    "from sklearn import linear_model\n",
    "import statsmodels.api as sm\n",
    "import statsmodels.formula.api as smf\n",
    "\n",
    "#Plotting\n",
    "from IPython.display import display\n",
    "from matplotlib import pyplot as plt\n",
    "import seaborn as sns\n",
    "sns.set(style=\"whitegrid\")\n",
    "%matplotlib inline\n",
    "pd.options.display.float_format = '{:.3f}'.format\n",
    "\n",
    "\n",
    "# Suppress annoying harmless error.\n",
    "warnings.filterwarnings(\n",
    "    action=\"ignore\",\n",
    "    module=\"scipy\",\n",
    "    message=\"^internal gelsd\"\n",
    ")"
   ]
  },
  {
   "cell_type": "code",
   "execution_count": 2,
   "metadata": {},
   "outputs": [
    {
     "data": {
      "text/html": [
       "<div>\n",
       "<style scoped>\n",
       "    .dataframe tbody tr th:only-of-type {\n",
       "        vertical-align: middle;\n",
       "    }\n",
       "\n",
       "    .dataframe tbody tr th {\n",
       "        vertical-align: top;\n",
       "    }\n",
       "\n",
       "    .dataframe thead th {\n",
       "        text-align: right;\n",
       "    }\n",
       "</style>\n",
       "<table border=\"1\" class=\"dataframe\">\n",
       "  <thead>\n",
       "    <tr style=\"text-align: right;\">\n",
       "      <th></th>\n",
       "      <th>City</th>\n",
       "      <th>Population</th>\n",
       "      <th>Violent_crime</th>\n",
       "      <th>Murder</th>\n",
       "      <th>Rape</th>\n",
       "      <th>Robbery</th>\n",
       "      <th>Aggrav_assault</th>\n",
       "      <th>Property_crime</th>\n",
       "      <th>Burglary</th>\n",
       "      <th>Larceny</th>\n",
       "      <th>Vehicle_theft</th>\n",
       "    </tr>\n",
       "  </thead>\n",
       "  <tbody>\n",
       "    <tr>\n",
       "      <th>0</th>\n",
       "      <td>Adams Village</td>\n",
       "      <td>1861.000</td>\n",
       "      <td>0.000</td>\n",
       "      <td>0.000</td>\n",
       "      <td>0.000</td>\n",
       "      <td>0.000</td>\n",
       "      <td>0.000</td>\n",
       "      <td>12.000</td>\n",
       "      <td>2.000</td>\n",
       "      <td>10.000</td>\n",
       "      <td>0.000</td>\n",
       "    </tr>\n",
       "    <tr>\n",
       "      <th>1</th>\n",
       "      <td>Addison Town and Village</td>\n",
       "      <td>2577.000</td>\n",
       "      <td>3.000</td>\n",
       "      <td>0.000</td>\n",
       "      <td>0.000</td>\n",
       "      <td>0.000</td>\n",
       "      <td>3.000</td>\n",
       "      <td>24.000</td>\n",
       "      <td>3.000</td>\n",
       "      <td>20.000</td>\n",
       "      <td>1.000</td>\n",
       "    </tr>\n",
       "    <tr>\n",
       "      <th>2</th>\n",
       "      <td>Akron Village</td>\n",
       "      <td>2846.000</td>\n",
       "      <td>3.000</td>\n",
       "      <td>0.000</td>\n",
       "      <td>0.000</td>\n",
       "      <td>0.000</td>\n",
       "      <td>3.000</td>\n",
       "      <td>16.000</td>\n",
       "      <td>1.000</td>\n",
       "      <td>15.000</td>\n",
       "      <td>0.000</td>\n",
       "    </tr>\n",
       "    <tr>\n",
       "      <th>3</th>\n",
       "      <td>Albany</td>\n",
       "      <td>97956.000</td>\n",
       "      <td>791.000</td>\n",
       "      <td>8.000</td>\n",
       "      <td>30.000</td>\n",
       "      <td>227.000</td>\n",
       "      <td>526.000</td>\n",
       "      <td>4090.000</td>\n",
       "      <td>705.000</td>\n",
       "      <td>3243.000</td>\n",
       "      <td>142.000</td>\n",
       "    </tr>\n",
       "    <tr>\n",
       "      <th>4</th>\n",
       "      <td>Albion Village</td>\n",
       "      <td>6388.000</td>\n",
       "      <td>23.000</td>\n",
       "      <td>0.000</td>\n",
       "      <td>3.000</td>\n",
       "      <td>4.000</td>\n",
       "      <td>16.000</td>\n",
       "      <td>223.000</td>\n",
       "      <td>53.000</td>\n",
       "      <td>165.000</td>\n",
       "      <td>5.000</td>\n",
       "    </tr>\n",
       "  </tbody>\n",
       "</table>\n",
       "</div>"
      ],
      "text/plain": [
       "                       City  Population  Violent_crime  Murder   Rape  \\\n",
       "0             Adams Village    1861.000          0.000   0.000  0.000   \n",
       "1  Addison Town and Village    2577.000          3.000   0.000  0.000   \n",
       "2             Akron Village    2846.000          3.000   0.000  0.000   \n",
       "3                    Albany   97956.000        791.000   8.000 30.000   \n",
       "4            Albion Village    6388.000         23.000   0.000  3.000   \n",
       "\n",
       "   Robbery  Aggrav_assault  Property_crime  Burglary  Larceny  Vehicle_theft  \n",
       "0    0.000           0.000          12.000     2.000   10.000          0.000  \n",
       "1    0.000           3.000          24.000     3.000   20.000          1.000  \n",
       "2    0.000           3.000          16.000     1.000   15.000          0.000  \n",
       "3  227.000         526.000        4090.000   705.000 3243.000        142.000  \n",
       "4    4.000          16.000         223.000    53.000  165.000          5.000  "
      ]
     },
     "execution_count": 2,
     "metadata": {},
     "output_type": "execute_result"
    }
   ],
   "source": [
    "crime_2013 = pd.read_csv('revised_crime_data_2013.csv')\n",
    "crime_2013.head()"
   ]
  },
  {
   "cell_type": "code",
   "execution_count": 7,
   "metadata": {},
   "outputs": [
    {
     "name": "stdout",
     "output_type": "stream",
     "text": [
      "\n",
      "Coefficients: \n",
      " Intercept          9.480\n",
      "Population         0.014\n",
      "Violent_crime     20.302\n",
      "Murder            36.379\n",
      "Rape              24.723\n",
      "Robbery          -21.252\n",
      "Aggrav_assault   -19.548\n",
      "dtype: float64\n",
      "\n",
      "P-Values: \n",
      " Intercept        0.548\n",
      "Population       0.000\n",
      "Violent_crime    0.000\n",
      "Murder           0.004\n",
      "Rape             0.000\n",
      "Robbery          0.000\n",
      "Aggrav_assault   0.000\n",
      "dtype: float64\n",
      "\n",
      "R-squared: \n",
      " 0.9509826192386062\n"
     ]
    }
   ],
   "source": [
    "# Instantiate and fit our model.\n",
    "\n",
    "# Note that the property_crime statistic is made from the burglary, larceny, and vehicle_theft columns\n",
    "# so we don't include those\n",
    "regr = linear_model.LinearRegression()\n",
    "Y = crime_2013['Property_crime'].values.reshape(-1, 1)\n",
    "linear_formula = 'Y ~ Population+Violent_crime+Murder+Rape+Robbery+Aggrav_assault'\n",
    "\n",
    "# Fit the model to our data using the formula.\n",
    "lm = smf.ols(formula=linear_formula, data=crime_2013).fit()\n",
    "\n",
    "\n",
    "# Inspect the results.\n",
    "print('\\nCoefficients: \\n', lm.params)\n",
    "print('\\nP-Values: \\n', lm.pvalues)\n",
    "print('\\nR-squared: \\n', lm.rsquared)"
   ]
  },
  {
   "cell_type": "code",
   "execution_count": 11,
   "metadata": {},
   "outputs": [
    {
     "name": "stdout",
     "output_type": "stream",
     "text": [
      "\n",
      "Coefficients: \n",
      " Intercept          9.480\n",
      "Population         0.014\n",
      "Violent_crime     56.681\n",
      "Rape             -11.656\n",
      "Robbery          -57.631\n",
      "Aggrav_assault   -55.927\n",
      "dtype: float64\n",
      "\n",
      "P-Values: \n",
      " Intercept        0.548\n",
      "Population       0.000\n",
      "Violent_crime    0.000\n",
      "Rape             0.518\n",
      "Robbery          0.000\n",
      "Aggrav_assault   0.000\n",
      "dtype: float64\n",
      "\n",
      "R-squared: \n",
      " 0.950982619238606\n"
     ]
    }
   ],
   "source": [
    "# Murder may or may not be statistically significant, but let's try without and see what happens\n",
    "\n",
    "#Refit the model\n",
    "linear_formula = 'Y ~ Population+Violent_crime+Rape+Robbery+Aggrav_assault'\n",
    "\n",
    "# Fit the model to our data using the formula.\n",
    "lm = smf.ols(formula=linear_formula, data=crime_2013).fit()\n",
    "\n",
    "# Inspect the results.\n",
    "print('\\nCoefficients: \\n', lm.params)\n",
    "print('\\nP-Values: \\n', lm.pvalues)\n",
    "print('\\nR-squared: \\n', lm.rsquared)"
   ]
  },
  {
   "cell_type": "code",
   "execution_count": 10,
   "metadata": {},
   "outputs": [
    {
     "name": "stdout",
     "output_type": "stream",
     "text": [
      "\n",
      "Coefficients: \n",
      " Intercept          9.362\n",
      "Population         0.013\n",
      "Violent_crime     47.201\n",
      "Robbery          -47.750\n",
      "Aggrav_assault   -46.641\n",
      "dtype: float64\n",
      "\n",
      "P-Values: \n",
      " Intercept        0.553\n",
      "Population       0.000\n",
      "Violent_crime    0.000\n",
      "Robbery          0.000\n",
      "Aggrav_assault   0.000\n",
      "dtype: float64\n",
      "\n",
      "R-squared: \n",
      " 0.9509225213660785\n"
     ]
    }
   ],
   "source": [
    "# We now have a big p-value for rape. I'll take that out, too. \n",
    "\n",
    "#Refit the model\n",
    "linear_formula = 'Y ~ Population+Violent_crime+Robbery+Aggrav_assault'\n",
    "\n",
    "# Fit the model to our data using the formula.\n",
    "lm = smf.ols(formula=linear_formula, data=crime_2013).fit()\n",
    "\n",
    "# Inspect the results.\n",
    "print('\\nCoefficients: \\n', lm.params)\n",
    "print('\\nP-Values: \\n', lm.pvalues)\n",
    "print('\\nR-squared: \\n', lm.rsquared)"
   ]
  },
  {
   "cell_type": "code",
   "execution_count": 15,
   "metadata": {},
   "outputs": [
    {
     "name": "stdout",
     "output_type": "stream",
     "text": [
      "\n",
      "Coefficients: \n",
      " Intercept          9.362\n",
      "Population         0.013\n",
      "Robbery          -47.750\n",
      "Violent_crime     47.201\n",
      "Aggrav_assault   -46.641\n",
      "dtype: float64\n",
      "\n",
      "P-Values: \n",
      " Intercept        0.553\n",
      "Population       0.000\n",
      "Robbery          0.000\n",
      "Violent_crime    0.000\n",
      "Aggrav_assault   0.000\n",
      "dtype: float64\n",
      "\n",
      "R-squared: \n",
      " 0.9509225213660786\n"
     ]
    }
   ],
   "source": [
    "# Finally, since violent_crime is a combination of rape, murder, and aggravated_assault, we'll take that out too\n",
    "\n",
    "#Refit the model\n",
    "linear_formula = 'Y ~ Population+Robbery+Violent_crime+Aggrav_assault'\n",
    "\n",
    "# Fit the model to our data using the formula.\n",
    "lm = smf.ols(formula=linear_formula, data=crime_2013).fit()\n",
    "\n",
    "# Inspect the results.\n",
    "print('\\nCoefficients: \\n', lm.params)\n",
    "print('\\nP-Values: \\n', lm.pvalues)\n",
    "print('\\nR-squared: \\n', lm.rsquared)"
   ]
  },
  {
   "cell_type": "code",
   "execution_count": 13,
   "metadata": {},
   "outputs": [
    {
     "data": {
      "image/png": "[encoded data removed]",
      "text/plain": [
       "<Figure size 432x288 with 2 Axes>"
      ]
     },
     "metadata": {
      "needs_background": "light"
     },
     "output_type": "display_data"
    }
   ],
   "source": [
    "sns.heatmap(crime_2013.corr(), annot=True)\n",
    "plt.show()"
   ]
  },
  {
   "cell_type": "code",
   "execution_count": 16,
   "metadata": {},
   "outputs": [
    {
     "data": {
      "text/html": [
       "<table class=\"simpletable\">\n",
       "<caption>OLS Regression Results</caption>\n",
       "<tr>\n",
       "  <th>Dep. Variable:</th>            <td>Y</td>        <th>  R-squared:         </th> <td>   0.951</td> \n",
       "</tr>\n",
       "<tr>\n",
       "  <th>Model:</th>                   <td>OLS</td>       <th>  Adj. R-squared:    </th> <td>   0.950</td> \n",
       "</tr>\n",
       "<tr>\n",
       "  <th>Method:</th>             <td>Least Squares</td>  <th>  F-statistic:       </th> <td>   1657.</td> \n",
       "</tr>\n",
       "<tr>\n",
       "  <th>Date:</th>             <td>Wed, 20 Feb 2019</td> <th>  Prob (F-statistic):</th> <td>2.26e-222</td>\n",
       "</tr>\n",
       "<tr>\n",
       "  <th>Time:</th>                 <td>09:19:31</td>     <th>  Log-Likelihood:    </th> <td> -2377.6</td> \n",
       "</tr>\n",
       "<tr>\n",
       "  <th>No. Observations:</th>      <td>   347</td>      <th>  AIC:               </th> <td>   4765.</td> \n",
       "</tr>\n",
       "<tr>\n",
       "  <th>Df Residuals:</th>          <td>   342</td>      <th>  BIC:               </th> <td>   4784.</td> \n",
       "</tr>\n",
       "<tr>\n",
       "  <th>Df Model:</th>              <td>     4</td>      <th>                     </th>     <td> </td>    \n",
       "</tr>\n",
       "<tr>\n",
       "  <th>Covariance Type:</th>      <td>nonrobust</td>    <th>                     </th>     <td> </td>    \n",
       "</tr>\n",
       "</table>\n",
       "<table class=\"simpletable\">\n",
       "<tr>\n",
       "         <td></td>           <th>coef</th>     <th>std err</th>      <th>t</th>      <th>P>|t|</th>  <th>[0.025</th>    <th>0.975]</th>  \n",
       "</tr>\n",
       "<tr>\n",
       "  <th>Intercept</th>      <td>    9.3623</td> <td>   15.758</td> <td>    0.594</td> <td> 0.553</td> <td>  -21.633</td> <td>   40.358</td>\n",
       "</tr>\n",
       "<tr>\n",
       "  <th>Population</th>     <td>    0.0134</td> <td>    0.001</td> <td>   16.140</td> <td> 0.000</td> <td>    0.012</td> <td>    0.015</td>\n",
       "</tr>\n",
       "<tr>\n",
       "  <th>Robbery</th>        <td>  -47.7504</td> <td>    3.702</td> <td>  -12.899</td> <td> 0.000</td> <td>  -55.032</td> <td>  -40.469</td>\n",
       "</tr>\n",
       "<tr>\n",
       "  <th>Violent_crime</th>  <td>   47.2005</td> <td>    3.393</td> <td>   13.911</td> <td> 0.000</td> <td>   40.527</td> <td>   53.874</td>\n",
       "</tr>\n",
       "<tr>\n",
       "  <th>Aggrav_assault</th> <td>  -46.6410</td> <td>    3.630</td> <td>  -12.848</td> <td> 0.000</td> <td>  -53.781</td> <td>  -39.501</td>\n",
       "</tr>\n",
       "</table>\n",
       "<table class=\"simpletable\">\n",
       "<tr>\n",
       "  <th>Omnibus:</th>       <td>116.495</td> <th>  Durbin-Watson:     </th> <td>   2.028</td>\n",
       "</tr>\n",
       "<tr>\n",
       "  <th>Prob(Omnibus):</th> <td> 0.000</td>  <th>  Jarque-Bera (JB):  </th> <td>5775.362</td>\n",
       "</tr>\n",
       "<tr>\n",
       "  <th>Skew:</th>          <td>-0.513</td>  <th>  Prob(JB):          </th> <td>    0.00</td>\n",
       "</tr>\n",
       "<tr>\n",
       "  <th>Kurtosis:</th>      <td>22.960</td>  <th>  Cond. No.          </th> <td>4.00e+04</td>\n",
       "</tr>\n",
       "</table><br/><br/>Warnings:<br/>[1] Standard Errors assume that the covariance matrix of the errors is correctly specified.<br/>[2] The condition number is large,  4e+04. This might indicate that there are<br/>strong multicollinearity or other numerical problems."
      ],
      "text/plain": [
       "<class 'statsmodels.iolib.summary.Summary'>\n",
       "\"\"\"\n",
       "                            OLS Regression Results                            \n",
       "==============================================================================\n",
       "Dep. Variable:                      Y   R-squared:                       0.951\n",
       "Model:                            OLS   Adj. R-squared:                  0.950\n",
       "Method:                 Least Squares   F-statistic:                     1657.\n",
       "Date:                Wed, 20 Feb 2019   Prob (F-statistic):          2.26e-222\n",
       "Time:                        09:19:31   Log-Likelihood:                -2377.6\n",
       "No. Observations:                 347   AIC:                             4765.\n",
       "Df Residuals:                     342   BIC:                             4784.\n",
       "Df Model:                           4                                         \n",
       "Covariance Type:            nonrobust                                         \n",
       "==================================================================================\n",
       "                     coef    std err          t      P>|t|      [0.025      0.975]\n",
       "----------------------------------------------------------------------------------\n",
       "Intercept          9.3623     15.758      0.594      0.553     -21.633      40.358\n",
       "Population         0.0134      0.001     16.140      0.000       0.012       0.015\n",
       "Robbery          -47.7504      3.702    -12.899      0.000     -55.032     -40.469\n",
       "Violent_crime     47.2005      3.393     13.911      0.000      40.527      53.874\n",
       "Aggrav_assault   -46.6410      3.630    -12.848      0.000     -53.781     -39.501\n",
       "==============================================================================\n",
       "Omnibus:                      116.495   Durbin-Watson:                   2.028\n",
       "Prob(Omnibus):                  0.000   Jarque-Bera (JB):             5775.362\n",
       "Skew:                          -0.513   Prob(JB):                         0.00\n",
       "Kurtosis:                      22.960   Cond. No.                     4.00e+04\n",
       "==============================================================================\n",
       "\n",
       "Warnings:\n",
       "[1] Standard Errors assume that the covariance matrix of the errors is correctly specified.\n",
       "[2] The condition number is large,  4e+04. This might indicate that there are\n",
       "strong multicollinearity or other numerical problems.\n",
       "\"\"\""
      ]
     },
     "execution_count": 16,
     "metadata": {},
     "output_type": "execute_result"
    }
   ],
   "source": [
    "lm.summary()"
   ]
  },
  {
   "cell_type": "markdown",
   "metadata": {},
   "source": [
    "### Build the Model"
   ]
  },
  {
   "cell_type": "code",
   "execution_count": 20,
   "metadata": {},
   "outputs": [
    {
     "data": {
      "text/plain": [
       "GridSearchCV(cv=3, error_score='raise-deprecating',\n",
       "       estimator=LinearRegression(copy_X=True, fit_intercept=True, n_jobs=None,\n",
       "         normalize=False),\n",
       "       fit_params=None, iid='warn', n_jobs=None,\n",
       "       param_grid={'normalize': [True, False]}, pre_dispatch='2*n_jobs',\n",
       "       refit=True, return_train_score='warn', scoring='r2', verbose=0)"
      ]
     },
     "execution_count": 20,
     "metadata": {},
     "output_type": "execute_result"
    }
   ],
   "source": [
    "#Sklearn\n",
    "\n",
    "from sklearn.model_selection import GridSearchCV\n",
    "\n",
    "\n",
    "parameters = {'normalize':[True,False]}\n",
    "\n",
    "grid = GridSearchCV(regr, parameters, scoring='r2', cv=3, verbose=0)\n",
    "\n",
    "\n",
    "Y = crime_2013['Property_crime'].values.reshape(-1, 1)\n",
    "X = crime_2013[['Population', 'Robbery', 'Violent_crime', 'Aggrav_assault']]\n",
    "\n",
    "#Fit the Data\n",
    "grid.fit(X, Y)"
   ]
  },
  {
   "cell_type": "code",
   "execution_count": 21,
   "metadata": {},
   "outputs": [
    {
     "name": "stdout",
     "output_type": "stream",
     "text": [
      "Model r2: \n",
      " 0.9509225213660787\n"
     ]
    }
   ],
   "source": [
    "# Look at the R^2 score for reference\n",
    "print(\"Model r2: \\n\", grid.score(X, Y))"
   ]
  },
  {
   "cell_type": "markdown",
   "metadata": {},
   "source": [
    "### Test the model on the same state, different year (2014 instead of 2013)"
   ]
  },
  {
   "cell_type": "code",
   "execution_count": 25,
   "metadata": {},
   "outputs": [],
   "source": [
    "# import the data\n",
    "\n",
    "data_2014 = pd.read_excel('Table_8_Offenses_Known_to_Law_Enforcement_by_New_York_by_City_2014.xls',\n",
    "                        header=4, # Sets the header\n",
    "                        skipfooter = 3)\n",
    "\n",
    "# Do some quick cleaning so that our columns look the same, and remove new york city\n",
    "\n",
    "data_2014 = data_2014.set_index('City')\n",
    "data_2014.drop(columns=['Rape\\n(revised\\ndefinition)1', 'Arson3'], inplace=True)\n",
    "data_2014.columns = ['Population', 'Violent_crime', 'Murder', 'Rape', 'Robbery', 'Aggrav_assault', 'Property_crime', \n",
    "              'Burglary', 'Larceny', 'Vehicle_theft']\n",
    "\n",
    "data_2014 = data_2014.drop('New York4', axis='rows')\n",
    "\n",
    "# Replace nans with 0s\n",
    "data_2014 = data_2014.fillna(value=0)\n",
    "\n",
    "# Convert all values to floats. Remove commas from larger numbers\n",
    "for col in data_2014.columns:\n",
    "    try:\n",
    "        data_2014[col] = data_2014[col].apply(lambda x: float(x.replace(',', '')))\n",
    "    except:\n",
    "        data_2014[col] = data_2014[col].apply(lambda x: float(x))"
   ]
  },
  {
   "cell_type": "code",
   "execution_count": 26,
   "metadata": {},
   "outputs": [
    {
     "data": {
      "text/html": [
       "<div>\n",
       "<style scoped>\n",
       "    .dataframe tbody tr th:only-of-type {\n",
       "        vertical-align: middle;\n",
       "    }\n",
       "\n",
       "    .dataframe tbody tr th {\n",
       "        vertical-align: top;\n",
       "    }\n",
       "\n",
       "    .dataframe thead th {\n",
       "        text-align: right;\n",
       "    }\n",
       "</style>\n",
       "<table border=\"1\" class=\"dataframe\">\n",
       "  <thead>\n",
       "    <tr style=\"text-align: right;\">\n",
       "      <th></th>\n",
       "      <th>Population</th>\n",
       "      <th>Violent_crime</th>\n",
       "      <th>Murder</th>\n",
       "      <th>Rape</th>\n",
       "      <th>Robbery</th>\n",
       "      <th>Aggrav_assault</th>\n",
       "      <th>Property_crime</th>\n",
       "      <th>Burglary</th>\n",
       "      <th>Larceny</th>\n",
       "      <th>Vehicle_theft</th>\n",
       "    </tr>\n",
       "    <tr>\n",
       "      <th>City</th>\n",
       "      <th></th>\n",
       "      <th></th>\n",
       "      <th></th>\n",
       "      <th></th>\n",
       "      <th></th>\n",
       "      <th></th>\n",
       "      <th></th>\n",
       "      <th></th>\n",
       "      <th></th>\n",
       "      <th></th>\n",
       "    </tr>\n",
       "  </thead>\n",
       "  <tbody>\n",
       "    <tr>\n",
       "      <th>Adams Village</th>\n",
       "      <td>1851.000</td>\n",
       "      <td>0.000</td>\n",
       "      <td>0.000</td>\n",
       "      <td>0.000</td>\n",
       "      <td>0.000</td>\n",
       "      <td>0.000</td>\n",
       "      <td>11.000</td>\n",
       "      <td>1.000</td>\n",
       "      <td>10.000</td>\n",
       "      <td>0.000</td>\n",
       "    </tr>\n",
       "    <tr>\n",
       "      <th>Addison Town and Village</th>\n",
       "      <td>2568.000</td>\n",
       "      <td>2.000</td>\n",
       "      <td>0.000</td>\n",
       "      <td>0.000</td>\n",
       "      <td>1.000</td>\n",
       "      <td>1.000</td>\n",
       "      <td>49.000</td>\n",
       "      <td>1.000</td>\n",
       "      <td>47.000</td>\n",
       "      <td>1.000</td>\n",
       "    </tr>\n",
       "    <tr>\n",
       "      <th>Afton Village4</th>\n",
       "      <td>820.000</td>\n",
       "      <td>0.000</td>\n",
       "      <td>0.000</td>\n",
       "      <td>0.000</td>\n",
       "      <td>0.000</td>\n",
       "      <td>0.000</td>\n",
       "      <td>1.000</td>\n",
       "      <td>0.000</td>\n",
       "      <td>1.000</td>\n",
       "      <td>0.000</td>\n",
       "    </tr>\n",
       "    <tr>\n",
       "      <th>Akron Village</th>\n",
       "      <td>2842.000</td>\n",
       "      <td>1.000</td>\n",
       "      <td>0.000</td>\n",
       "      <td>0.000</td>\n",
       "      <td>0.000</td>\n",
       "      <td>1.000</td>\n",
       "      <td>17.000</td>\n",
       "      <td>0.000</td>\n",
       "      <td>17.000</td>\n",
       "      <td>0.000</td>\n",
       "    </tr>\n",
       "    <tr>\n",
       "      <th>Albany4</th>\n",
       "      <td>98595.000</td>\n",
       "      <td>802.000</td>\n",
       "      <td>8.000</td>\n",
       "      <td>0.000</td>\n",
       "      <td>237.000</td>\n",
       "      <td>503.000</td>\n",
       "      <td>3888.000</td>\n",
       "      <td>683.000</td>\n",
       "      <td>3083.000</td>\n",
       "      <td>122.000</td>\n",
       "    </tr>\n",
       "  </tbody>\n",
       "</table>\n",
       "</div>"
      ],
      "text/plain": [
       "                          Population  Violent_crime  Murder  Rape  Robbery  \\\n",
       "City                                                                         \n",
       "Adams Village               1851.000          0.000   0.000 0.000    0.000   \n",
       "Addison Town and Village    2568.000          2.000   0.000 0.000    1.000   \n",
       "Afton Village4               820.000          0.000   0.000 0.000    0.000   \n",
       "Akron Village               2842.000          1.000   0.000 0.000    0.000   \n",
       "Albany4                    98595.000        802.000   8.000 0.000  237.000   \n",
       "\n",
       "                          Aggrav_assault  Property_crime  Burglary  Larceny  \\\n",
       "City                                                                          \n",
       "Adams Village                      0.000          11.000     1.000   10.000   \n",
       "Addison Town and Village           1.000          49.000     1.000   47.000   \n",
       "Afton Village4                     0.000           1.000     0.000    1.000   \n",
       "Akron Village                      1.000          17.000     0.000   17.000   \n",
       "Albany4                          503.000        3888.000   683.000 3083.000   \n",
       "\n",
       "                          Vehicle_theft  \n",
       "City                                     \n",
       "Adams Village                     0.000  \n",
       "Addison Town and Village          1.000  \n",
       "Afton Village4                    0.000  \n",
       "Akron Village                     0.000  \n",
       "Albany4                         122.000  "
      ]
     },
     "execution_count": 26,
     "metadata": {},
     "output_type": "execute_result"
    }
   ],
   "source": [
    "data_2014.head()"
   ]
  },
  {
   "cell_type": "code",
   "execution_count": 27,
   "metadata": {},
   "outputs": [
    {
     "data": {
      "text/plain": [
       "GridSearchCV(cv=3, error_score='raise-deprecating',\n",
       "       estimator=LinearRegression(copy_X=True, fit_intercept=True, n_jobs=None,\n",
       "         normalize=False),\n",
       "       fit_params=None, iid='warn', n_jobs=None,\n",
       "       param_grid={'normalize': [True, False]}, pre_dispatch='2*n_jobs',\n",
       "       refit=True, return_train_score='warn', scoring='r2', verbose=0)"
      ]
     },
     "execution_count": 27,
     "metadata": {},
     "output_type": "execute_result"
    }
   ],
   "source": [
    "# Putting the new data through the model\n",
    "Y2 = data_2014['Property_crime'].values.reshape(-1, 1)\n",
    "X2 = data_2014[['Population', 'Robbery', 'Violent_crime', 'Aggrav_assault']]\n",
    "\n",
    "#Fit the Data\n",
    "grid.fit(X2, Y2)"
   ]
  },
  {
   "cell_type": "code",
   "execution_count": 28,
   "metadata": {},
   "outputs": [
    {
     "name": "stdout",
     "output_type": "stream",
     "text": [
      "Model r2: \n",
      " 0.9215374160897921\n"
     ]
    }
   ],
   "source": [
    "print(\"Model r2: \\n\", grid.score(X, Y))"
   ]
  },
  {
   "cell_type": "markdown",
   "metadata": {},
   "source": [
    "Our R^2 score is lower, so we might have overfitting on our initial model. Let's try switching it up. Using the correlation map and previous p values, I'll choose this time to keep in population, burglary, vehicle theft, and aggravated assault"
   ]
  },
  {
   "cell_type": "markdown",
   "metadata": {},
   "source": [
    "### Modify the original regression to fix overfitting "
   ]
  },
  {
   "cell_type": "code",
   "execution_count": 35,
   "metadata": {},
   "outputs": [
    {
     "name": "stdout",
     "output_type": "stream",
     "text": [
      "\n",
      "Coefficients: \n",
      " Intercept        -13.494\n",
      "Population         0.011\n",
      "Burglary           3.970\n",
      "Vehicle_theft     -3.242\n",
      "Aggrav_assault    -0.606\n",
      "dtype: float64\n",
      "\n",
      "P-Values: \n",
      " Intercept        0.183\n",
      "Population       0.000\n",
      "Burglary         0.000\n",
      "Vehicle_theft    0.000\n",
      "Aggrav_assault   0.046\n",
      "dtype: float64\n",
      "\n",
      "R-squared: \n",
      " 0.9800835471115038\n"
     ]
    }
   ],
   "source": [
    "# Instantiate and fit our model.\n",
    "\n",
    "regr = linear_model.LinearRegression()\n",
    "Y = crime_2013['Property_crime'].values.reshape(-1, 1)\n",
    "linear_formula = 'Y ~ Population+Burglary+Vehicle_theft+Aggrav_assault'\n",
    "\n",
    "# Fit the model to our data using the formula.\n",
    "lm = smf.ols(formula=linear_formula, data=crime_2013).fit()\n",
    "\n",
    "\n",
    "# Inspect the results.\n",
    "print('\\nCoefficients: \\n', lm.params)\n",
    "print('\\nP-Values: \\n', lm.pvalues)\n",
    "print('\\nR-squared: \\n', lm.rsquared)"
   ]
  },
  {
   "cell_type": "code",
   "execution_count": 36,
   "metadata": {},
   "outputs": [
    {
     "data": {
      "text/plain": [
       "GridSearchCV(cv=3, error_score='raise-deprecating',\n",
       "       estimator=LinearRegression(copy_X=True, fit_intercept=True, n_jobs=None,\n",
       "         normalize=False),\n",
       "       fit_params=None, iid='warn', n_jobs=None,\n",
       "       param_grid={'normalize': [True, False]}, pre_dispatch='2*n_jobs',\n",
       "       refit=True, return_train_score='warn', scoring='r2', verbose=0)"
      ]
     },
     "execution_count": 36,
     "metadata": {},
     "output_type": "execute_result"
    }
   ],
   "source": [
    "# Remake the model\n",
    "\n",
    "parameters = {'normalize':[True,False]}\n",
    "\n",
    "grid = GridSearchCV(regr, parameters, scoring='r2', cv=3, verbose=0)\n",
    "\n",
    "\n",
    "Y = crime_2013['Property_crime'].values.reshape(-1, 1)\n",
    "X = crime_2013[['Population', 'Burglary', 'Vehicle_theft', 'Aggrav_assault']]\n",
    "\n",
    "#Fit the Data\n",
    "grid.fit(X, Y)"
   ]
  },
  {
   "cell_type": "code",
   "execution_count": 37,
   "metadata": {},
   "outputs": [
    {
     "name": "stdout",
     "output_type": "stream",
     "text": [
      "Model r2: \n",
      " 0.9800835471115038\n"
     ]
    }
   ],
   "source": [
    "print(\"Model r2: \\n\", grid.score(X, Y))"
   ]
  },
  {
   "cell_type": "markdown",
   "metadata": {},
   "source": [
    "### Test the revised model on our new data"
   ]
  },
  {
   "cell_type": "code",
   "execution_count": 39,
   "metadata": {},
   "outputs": [
    {
     "data": {
      "text/plain": [
       "GridSearchCV(cv=3, error_score='raise-deprecating',\n",
       "       estimator=LinearRegression(copy_X=True, fit_intercept=True, n_jobs=None,\n",
       "         normalize=False),\n",
       "       fit_params=None, iid='warn', n_jobs=None,\n",
       "       param_grid={'normalize': [True, False]}, pre_dispatch='2*n_jobs',\n",
       "       refit=True, return_train_score='warn', scoring='r2', verbose=0)"
      ]
     },
     "execution_count": 39,
     "metadata": {},
     "output_type": "execute_result"
    }
   ],
   "source": [
    "# Putting the new data through the model\n",
    "Y2 = data_2014['Property_crime'].values.reshape(-1, 1)\n",
    "X2 = data_2014[['Population', 'Burglary', 'Vehicle_theft', 'Aggrav_assault']]\n",
    "\n",
    "#Fit the Data\n",
    "grid.fit(X2, Y2)\n",
    "\n"
   ]
  },
  {
   "cell_type": "code",
   "execution_count": 40,
   "metadata": {},
   "outputs": [
    {
     "name": "stdout",
     "output_type": "stream",
     "text": [
      "Model r2: \n",
      " 0.978515941672795\n"
     ]
    }
   ],
   "source": [
    "print(\"Model r2: \\n\", grid.score(X2, Y2))"
   ]
  },
  {
   "cell_type": "markdown",
   "metadata": {},
   "source": [
    "The model works and can explain variance in the data without overfitting"
   ]
  },
  {
   "cell_type": "code",
   "execution_count": null,
   "metadata": {},
   "outputs": [],
   "source": []
  }
 ],
 "metadata": {
  "kernelspec": {
   "display_name": "Python 3",
   "language": "python",
   "name": "python3"
  },
  "language_info": {
   "codemirror_mode": {
    "name": "ipython",
    "version": 3
   },
   "file_extension": ".py",
   "mimetype": "text/x-python",
   "name": "python",
   "nbconvert_exporter": "python",
   "pygments_lexer": "ipython3",
   "version": "3.7.2"
  }
 },
 "nbformat": 4,
 "nbformat_minor": 2
}
