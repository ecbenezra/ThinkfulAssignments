{
 "cells": [
  {
   "cell_type": "markdown",
   "metadata": {},
   "source": [
    "You now have a fairly substantial starting toolbox of supervised learning methods that you can use to tackle a host of exciting problems. To make sure all of these ideas are organized in your mind, please go through the list of problems below. For each, identify which supervised learning method(s) would be best for addressing that particular problem. Explain your reasoning and discuss your answers with your mentor."
   ]
  },
  {
   "cell_type": "markdown",
   "metadata": {},
   "source": [
    "1. Prect the running times of prospective Olympic sprinters using data from the last 20 olympics. \n",
    "\n",
    "This feels like it could be just a simple regression problem as you're working with continuous outcomes.\n",
    "\n",
    "\n",
    "\n"
   ]
  },
  {
   "cell_type": "markdown",
   "metadata": {},
   "source": [
    "2. You have more features than rows in your dataset.\n",
    "\n",
    "This could be answered many ways and depends on what our target variable is. For a continuous outcome, we could use PCA and regression. LASSO and RIDGE regression for continuous or logistic regression. Decision trees could be used, as could SVM."
   ]
  },
  {
   "cell_type": "markdown",
   "metadata": {},
   "source": [
    "3. Identify the most important characteristic predicting likelihood of being jailed before age 20.\n",
    "\n",
    "Decision trees or KNN."
   ]
  },
  {
   "cell_type": "markdown",
   "metadata": {},
   "source": [
    "4. Implement a filter to \"highlight\" emails that might be important to the recipient\n",
    "\n",
    "Naive bayes classification (bag of words) or decision tree. Logistic regression as well."
   ]
  },
  {
   "cell_type": "markdown",
   "metadata": {},
   "source": [
    "5. You have 1000+ Features\n",
    "\n",
    "SVM. Ridge or LASSO regression to reduce dimensionality. Random forest."
   ]
  },
  {
   "cell_type": "markdown",
   "metadata": {},
   "source": [
    "6. Predict whether someone who adds items to their cart on a website will purchase the items.\n",
    "\n",
    "Decision tree or logistic regression"
   ]
  },
  {
   "cell_type": "markdown",
   "metadata": {},
   "source": [
    "7. Your dataset dimensions are 982400 x 500\n",
    "\n",
    "SVM, Ridge or LASSO regression, Random Forest, or PCA with linear regression."
   ]
  },
  {
   "cell_type": "markdown",
   "metadata": {},
   "source": [
    "8. Identify faces in an image\n",
    "\n",
    "SVM"
   ]
  },
  {
   "cell_type": "markdown",
   "metadata": {},
   "source": [
    "9. Predict which of three flavors of ice cream will be most popular with boys vs. girls.\n",
    "\n",
    "KNN, SVM, Decision Tree"
   ]
  },
  {
   "cell_type": "code",
   "execution_count": null,
   "metadata": {},
   "outputs": [],
   "source": []
  }
 ],
 "metadata": {
  "kernelspec": {
   "display_name": "Python 3",
   "language": "python",
   "name": "python3"
  },
  "language_info": {
   "codemirror_mode": {
    "name": "ipython",
    "version": 3
   },
   "file_extension": ".py",
   "mimetype": "text/x-python",
   "name": "python",
   "nbconvert_exporter": "python",
   "pygments_lexer": "ipython3",
   "version": "3.7.2"
  }
 },
 "nbformat": 4,
 "nbformat_minor": 2
}
