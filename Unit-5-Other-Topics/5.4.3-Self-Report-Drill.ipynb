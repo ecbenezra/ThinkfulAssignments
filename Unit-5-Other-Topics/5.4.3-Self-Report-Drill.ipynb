{
 "cells": [
  {
   "cell_type": "markdown",
   "metadata": {},
   "source": [
    "# DRILL: When to use surveys \n",
    "\n",
    "State whether a survey would be the best option for answering each of the following questions.\n",
    "\n",
    "1. Popularity of various Uber drivers. \n",
    "> Probably not a survey because there are too many options. The only way to do a survey would be a write in 'who is your favorite Uber driver' and there are too many.\n",
    "\n",
    "2. A grocery store wants to know how much people like strawberry, chocolate, and vanilla ice cream.\n",
    "> Survey would work for this if phrased in a non-biased way \"Which ice cream flavor do you prefer most\" or something.\n",
    "\n",
    "3. Trojan wants to know whether their condoms are more popular among straight people or gay people. \n",
    "> Possibly with a self-reporting survey but would have to watch out for bias\n",
    "\n",
    "4. Recently, rental rates for HappyCars have increased by 30%, which is quite unusual. You want to find out why this is happening and how to keep the increase going. \n",
    "> Survey is likely not the best way, and instead should look at external events going on that might cause people to want to rent a car (fuel prices going way down, for example). There are too many options that are not related to the rental cars.\n",
    "\n",
    "5. Assessing the success rate of a new advertising campaign.\n",
    "> Would likely be better studied by sign ups / purchase numbers unless the campaign was for something like political impact: advertising campaign for pro-life/choice, or for a specific candidate. \n",
    "\n",
    "6. Measuring the effect of nurse/patient ratio on patient recovery rates in hospital wards.\n",
    "> Probably not because this couldn't be self reported information, it would be measured by infection rate. Though 'happiness' of the patient might be able to be surveyable."
   ]
  }
 ],
 "metadata": {
  "kernelspec": {
   "display_name": "Python 3",
   "language": "python",
   "name": "python3"
  },
  "language_info": {
   "codemirror_mode": {
    "name": "ipython",
    "version": 3
   },
   "file_extension": ".py",
   "mimetype": "text/x-python",
   "name": "python",
   "nbconvert_exporter": "python",
   "pygments_lexer": "ipython3",
   "version": "3.7.2"
  }
 },
 "nbformat": 4,
 "nbformat_minor": 2
}
