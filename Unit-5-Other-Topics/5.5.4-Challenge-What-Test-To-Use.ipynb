{
 "cells": [
  {
   "cell_type": "code",
   "execution_count": 1,
   "metadata": {},
   "outputs": [],
   "source": [
    "import pandas as pd\n",
    "import numpy as np\n",
    "import scipy.stats as stats\n",
    "import matplotlib.pyplot as plt\n",
    "import seaborn as sns\n",
    "import math\n",
    "\n",
    "# Import parametric statistics\n",
    "from scipy.stats import ttest_ind, f_oneway, ttest_rel, shapiro\n",
    "# Import nonparametric statistics\n",
    "from scipy.stats import kruskal, wilcoxon\n",
    "# Import test for normality\n",
    "from statsmodels.stats.multicomp import pairwise_tukeyhsd\n",
    "\n",
    "%matplotlib inline"
   ]
  },
  {
   "cell_type": "markdown",
   "metadata": {},
   "source": [
    "Using selected questions from the 2012 and 2014 editions of the European Social Survey, address the following questions. Keep track of your code and results in a Jupyter notebook or other source that you can share with your mentor. For each question, explain why you chose the approach you did.\n",
    "\n",
    "Here is the data file. And here is the codebook, with information about the variable coding and content.\n",
    "\n",
    "In this dataset, the same participants answered questions in 2012 and again 2014.\n",
    "\n",
    "1. Did people become less trusting from 2012 to 2014? Compute results for each country in the sample.\n",
    "2. Did people become happier from 2012 to 2014? Compute results for each country in the sample.\n",
    "3. Who reported watching more TV in 2012, men or women?\n",
    "4. Who was more likely to believe people were fair in 2012, people living with a partner or people living alone?\n",
    "5. Pick three or four of the countries in the sample and compare how often people met socially in 2014. Are there differences, and if so, which countries stand out?\n",
    "6. Pick three or four of the countries in the sample and compare how often people took part in social activities, relative to others their age, in 2014. Are there differences, and if so, which countries stand out?"
   ]
  },
  {
   "cell_type": "code",
   "execution_count": 2,
   "metadata": {},
   "outputs": [],
   "source": [
    "data = pd.read_csv('ESSdata_Thinkful.csv')"
   ]
  },
  {
   "cell_type": "code",
   "execution_count": 3,
   "metadata": {},
   "outputs": [
    {
     "data": {
      "text/html": [
       "<div>\n",
       "<style scoped>\n",
       "    .dataframe tbody tr th:only-of-type {\n",
       "        vertical-align: middle;\n",
       "    }\n",
       "\n",
       "    .dataframe tbody tr th {\n",
       "        vertical-align: top;\n",
       "    }\n",
       "\n",
       "    .dataframe thead th {\n",
       "        text-align: right;\n",
       "    }\n",
       "</style>\n",
       "<table border=\"1\" class=\"dataframe\">\n",
       "  <thead>\n",
       "    <tr style=\"text-align: right;\">\n",
       "      <th></th>\n",
       "      <th>cntry</th>\n",
       "      <th>idno</th>\n",
       "      <th>year</th>\n",
       "      <th>tvtot</th>\n",
       "      <th>ppltrst</th>\n",
       "      <th>pplfair</th>\n",
       "      <th>pplhlp</th>\n",
       "      <th>happy</th>\n",
       "      <th>sclmeet</th>\n",
       "      <th>sclact</th>\n",
       "      <th>gndr</th>\n",
       "      <th>agea</th>\n",
       "      <th>partner</th>\n",
       "    </tr>\n",
       "  </thead>\n",
       "  <tbody>\n",
       "    <tr>\n",
       "      <th>0</th>\n",
       "      <td>CH</td>\n",
       "      <td>5.0</td>\n",
       "      <td>6</td>\n",
       "      <td>3.0</td>\n",
       "      <td>3.0</td>\n",
       "      <td>10.0</td>\n",
       "      <td>5.0</td>\n",
       "      <td>8.0</td>\n",
       "      <td>5.0</td>\n",
       "      <td>4.0</td>\n",
       "      <td>2.0</td>\n",
       "      <td>60.0</td>\n",
       "      <td>1.0</td>\n",
       "    </tr>\n",
       "    <tr>\n",
       "      <th>1</th>\n",
       "      <td>CH</td>\n",
       "      <td>25.0</td>\n",
       "      <td>6</td>\n",
       "      <td>6.0</td>\n",
       "      <td>5.0</td>\n",
       "      <td>7.0</td>\n",
       "      <td>5.0</td>\n",
       "      <td>9.0</td>\n",
       "      <td>3.0</td>\n",
       "      <td>2.0</td>\n",
       "      <td>2.0</td>\n",
       "      <td>59.0</td>\n",
       "      <td>1.0</td>\n",
       "    </tr>\n",
       "    <tr>\n",
       "      <th>2</th>\n",
       "      <td>CH</td>\n",
       "      <td>26.0</td>\n",
       "      <td>6</td>\n",
       "      <td>1.0</td>\n",
       "      <td>8.0</td>\n",
       "      <td>8.0</td>\n",
       "      <td>8.0</td>\n",
       "      <td>7.0</td>\n",
       "      <td>6.0</td>\n",
       "      <td>3.0</td>\n",
       "      <td>1.0</td>\n",
       "      <td>24.0</td>\n",
       "      <td>2.0</td>\n",
       "    </tr>\n",
       "    <tr>\n",
       "      <th>3</th>\n",
       "      <td>CH</td>\n",
       "      <td>28.0</td>\n",
       "      <td>6</td>\n",
       "      <td>4.0</td>\n",
       "      <td>6.0</td>\n",
       "      <td>6.0</td>\n",
       "      <td>7.0</td>\n",
       "      <td>10.0</td>\n",
       "      <td>6.0</td>\n",
       "      <td>2.0</td>\n",
       "      <td>2.0</td>\n",
       "      <td>64.0</td>\n",
       "      <td>1.0</td>\n",
       "    </tr>\n",
       "    <tr>\n",
       "      <th>4</th>\n",
       "      <td>CH</td>\n",
       "      <td>29.0</td>\n",
       "      <td>6</td>\n",
       "      <td>5.0</td>\n",
       "      <td>6.0</td>\n",
       "      <td>7.0</td>\n",
       "      <td>5.0</td>\n",
       "      <td>8.0</td>\n",
       "      <td>7.0</td>\n",
       "      <td>2.0</td>\n",
       "      <td>2.0</td>\n",
       "      <td>55.0</td>\n",
       "      <td>1.0</td>\n",
       "    </tr>\n",
       "  </tbody>\n",
       "</table>\n",
       "</div>"
      ],
      "text/plain": [
       "  cntry  idno  year  tvtot  ppltrst  pplfair  pplhlp  happy  sclmeet  sclact  \\\n",
       "0    CH   5.0     6    3.0      3.0     10.0     5.0    8.0      5.0     4.0   \n",
       "1    CH  25.0     6    6.0      5.0      7.0     5.0    9.0      3.0     2.0   \n",
       "2    CH  26.0     6    1.0      8.0      8.0     8.0    7.0      6.0     3.0   \n",
       "3    CH  28.0     6    4.0      6.0      6.0     7.0   10.0      6.0     2.0   \n",
       "4    CH  29.0     6    5.0      6.0      7.0     5.0    8.0      7.0     2.0   \n",
       "\n",
       "   gndr  agea  partner  \n",
       "0   2.0  60.0      1.0  \n",
       "1   2.0  59.0      1.0  \n",
       "2   1.0  24.0      2.0  \n",
       "3   2.0  64.0      1.0  \n",
       "4   2.0  55.0      1.0  "
      ]
     },
     "execution_count": 3,
     "metadata": {},
     "output_type": "execute_result"
    }
   ],
   "source": [
    "data.head()"
   ]
  },
  {
   "cell_type": "code",
   "execution_count": 4,
   "metadata": {},
   "outputs": [],
   "source": [
    "# Reminders: 6 = 2012, 7 = 2014 (year)"
   ]
  },
  {
   "cell_type": "markdown",
   "metadata": {},
   "source": [
    "# 1. Did people become less trusting from 2012 to 2014? Compute results for each country in the sample."
   ]
  },
  {
   "cell_type": "code",
   "execution_count": 5,
   "metadata": {},
   "outputs": [
    {
     "data": {
      "text/plain": [
       "ES    2426\n",
       "SE    1816\n",
       "CH    1546\n",
       "NO    1462\n",
       "CZ    1316\n",
       "DE      28\n",
       "Name: cntry, dtype: int64"
      ]
     },
     "execution_count": 5,
     "metadata": {},
     "output_type": "execute_result"
    }
   ],
   "source": [
    "data['cntry'].value_counts()"
   ]
  },
  {
   "cell_type": "code",
   "execution_count": 6,
   "metadata": {},
   "outputs": [
    {
     "data": {
      "text/plain": [
       "<matplotlib.axes._subplots.AxesSubplot at 0x110949080>"
      ]
     },
     "execution_count": 6,
     "metadata": {},
     "output_type": "execute_result"
    },
    {
     "data": {
      "image/png": "[encoded data removed]",
      "text/plain": [
       "<Figure size 432x288 with 1 Axes>"
      ]
     },
     "metadata": {
      "needs_background": "light"
     },
     "output_type": "display_data"
    }
   ],
   "source": [
    "sns.boxplot(x='cntry', y='ppltrst', hue='year', data=data)"
   ]
  },
  {
   "cell_type": "code",
   "execution_count": 7,
   "metadata": {},
   "outputs": [
    {
     "data": {
      "text/plain": [
       "<matplotlib.axes._subplots.AxesSubplot at 0x125b4bb00>"
      ]
     },
     "execution_count": 7,
     "metadata": {},
     "output_type": "execute_result"
    },
    {
     "data": {
      "image/png": "[encoded data removed]",
      "text/plain": [
       "<Figure size 432x288 with 1 Axes>"
      ]
     },
     "metadata": {
      "needs_background": "light"
     },
     "output_type": "display_data"
    }
   ],
   "source": [
    "sns.barplot(x='cntry', y='ppltrst', hue='year', data=data)"
   ]
  },
  {
   "cell_type": "markdown",
   "metadata": {},
   "source": [
    "It's not easy to see from these graphs, so we'll make histograms of each country to see if the data is normally distribued. We'll also use the Shapiro test to determine if the distribution is normal"
   ]
  },
  {
   "cell_type": "code",
   "execution_count": 47,
   "metadata": {},
   "outputs": [
    {
     "name": "stdout",
     "output_type": "stream",
     "text": [
      "\t\t\t\t\tDistribution of Trust\n"
     ]
    },
    {
     "data": {
      "image/png": "[encoded data removed]",
      "text/plain": [
       "<Figure size 1296x432 with 12 Axes>"
      ]
     },
     "metadata": {
      "needs_background": "light"
     },
     "output_type": "display_data"
    },
    {
     "name": "stdout",
     "output_type": "stream",
     "text": [
      "Shapiro Tests for Normality\n",
      "CH 6 (0.9517108201980591, 9.511383786695374e-15)\n",
      "CH 7 (0.9547930955886841, 2.4654701498145852e-14)\n",
      "\n",
      "CZ 6 (0.9680074453353882, 3.6126571179018185e-10)\n",
      "CZ 7 (0.9715775847434998, 1.8777941424019673e-09)\n",
      "\n",
      "DE 6 (0.8929166197776794, 0.10693283379077911)\n",
      "DE 7 (0.9425466060638428, 0.4519253373146057)\n",
      "\n",
      "ES 6 (0.949491024017334, 1.6942651933374377e-19)\n",
      "ES 7 (0.9663601517677307, 1.5275811452092943e-15)\n",
      "\n",
      "NO 6 (0.9211018085479736, 8.881221102071063e-19)\n",
      "NO 7 (0.9292040467262268, 7.928973676032161e-18)\n",
      "\n",
      "SE 6 (0.9367397427558899, 1.2586250953636158e-18)\n",
      "SE 7 (0.9376322627067566, 1.3852298444033788e-18)\n",
      "\n"
     ]
    }
   ],
   "source": [
    "# Plotting histograms of trust for each country for each year\n",
    "g = sns.FacetGrid(data, row='year', col='cntry', palette='pastel', dropna=True, sharey=False)\n",
    "g = g.map(plt.hist, 'ppltrst', alpha=0.8)\n",
    "print('\\t\\t\\t\\t\\tDistribution of Trust')\n",
    "plt.show()\n",
    "\n",
    "# Testing each country and each year to determine if trust is normally distributed through Shapiro test\n",
    "# Creating lists of countries and years\n",
    "cntrys = list(data.cntry.unique())\n",
    "years = [6,7]\n",
    "print('Shapiro Tests for Normality')\n",
    "for cnt in cntrys:\n",
    "    # Isolating data from each country\n",
    "    data_temp = data[data.cntry ==cnt].dropna()\n",
    "    for year in years:\n",
    "        # Printing Shapiro test results\n",
    "        print(cnt, year, shapiro(data_temp[data_temp.year ==year].ppltrst))\n",
    "    print()"
   ]
  },
  {
   "cell_type": "markdown",
   "metadata": {},
   "source": [
    "We cannot reject our null hypothesis, and therefore we find that the data is not normally distributed. "
   ]
  },
  {
   "cell_type": "code",
   "execution_count": 9,
   "metadata": {},
   "outputs": [
    {
     "name": "stdout",
     "output_type": "stream",
     "text": [
      "Wilcoxon Signed-Rank Test\n",
      "CH WilcoxonResult(statistic=106278.5, pvalue=0.4411286510952477)\n",
      "\n",
      "CZ WilcoxonResult(statistic=82837.0, pvalue=0.2931891426327379)\n",
      "\n",
      "DE WilcoxonResult(statistic=44.0, pvalue=0.9157134600899863)\n",
      "\n",
      "ES WilcoxonResult(statistic=243475.5, pvalue=0.005570829650439684)\n",
      "\n",
      "NO WilcoxonResult(statistic=85392.0, pvalue=0.6139175669970661)\n",
      "\n",
      "SE WilcoxonResult(statistic=130719.5, pvalue=0.028545290985536906)\n",
      "\n"
     ]
    },
    {
     "name": "stderr",
     "output_type": "stream",
     "text": [
      "/usr/local/lib/python3.7/site-packages/scipy/stats/morestats.py:2781: RuntimeWarning: invalid value encountered in greater\n",
      "  r_plus = np.sum((d > 0) * r, axis=0)\n",
      "/usr/local/lib/python3.7/site-packages/scipy/stats/morestats.py:2782: RuntimeWarning: invalid value encountered in less\n",
      "  r_minus = np.sum((d < 0) * r, axis=0)\n"
     ]
    }
   ],
   "source": [
    "# Wilcoxon Signed Rank Test for each country between years.\n",
    "print('Wilcoxon Signed-Rank Test')\n",
    "for cnt in cntrys:\n",
    "    # Isolating data from each country\n",
    "    data_temp = data[data.cntry ==cnt]\n",
    "    # Printing Shapiro test results\n",
    "    print(cnt, wilcoxon(data_temp[data_temp.year == 6].ppltrst, \n",
    "                        y=data_temp[data_temp.year == 7].ppltrst))\n",
    "    print()"
   ]
  },
  {
   "cell_type": "markdown",
   "metadata": {},
   "source": [
    "**Answer:** Spain and Sweden show a difference in trust from 2012 to 2014, however only Spain shows that they are less trusting. "
   ]
  },
  {
   "cell_type": "markdown",
   "metadata": {},
   "source": [
    "# 2. Did people become happier from 2012 to 2014? Compute results for each country in the sample."
   ]
  },
  {
   "cell_type": "code",
   "execution_count": 46,
   "metadata": {},
   "outputs": [
    {
     "name": "stdout",
     "output_type": "stream",
     "text": [
      "\t\t\t\t\tDistribution of Happiness\n"
     ]
    },
    {
     "data": {
      "image/png": "[encoded data removed]",
      "text/plain": [
       "<Figure size 1296x432 with 12 Axes>"
      ]
     },
     "metadata": {
      "needs_background": "light"
     },
     "output_type": "display_data"
    },
    {
     "name": "stdout",
     "output_type": "stream",
     "text": [
      "Shapiro Tests for Normality\n",
      "CH 6 (0.8773602843284607, 1.4611401593361174e-23)\n",
      "CH 7 (0.8950787782669067, 4.273768685964887e-22)\n",
      "\n",
      "CZ 6 (0.9462587833404541, 5.939277796787254e-14)\n",
      "CZ 7 (0.9448645710945129, 3.1643033327052525e-14)\n",
      "\n",
      "DE 6 (0.9160983562469482, 0.22210942208766937)\n",
      "DE 7 (0.9213663339614868, 0.23006466031074524)\n",
      "\n",
      "ES 6 (0.9052610397338867, 3.4151276945678624e-26)\n",
      "ES 7 (0.9136462211608887, 6.898763644671094e-25)\n",
      "\n",
      "NO 6 (0.8498518466949463, 2.291937245544563e-25)\n",
      "NO 7 (0.8795287609100342, 4.6808705797415216e-23)\n",
      "\n",
      "SE 6 (0.9025380611419678, 5.918160728712866e-23)\n",
      "SE 7 (0.912103533744812, 5.600742285549146e-22)\n",
      "\n"
     ]
    }
   ],
   "source": [
    "# Plotting histograms of trust for each country for each year\n",
    "g = sns.FacetGrid(data, row='year', col='cntry', palette='pastel', dropna=True, sharey=False)\n",
    "g = g.map(plt.hist, 'happy', alpha=0.8)\n",
    "print('\\t\\t\\t\\t\\tDistribution of Happiness')\n",
    "plt.show()\n",
    "\n",
    "# Testing each country and each year to determine if trust is normally distributed through Shapiro test\n",
    "# Creating lists of countries and years\n",
    "cntrys = list(data.cntry.unique())\n",
    "years = [6,7]\n",
    "print('Shapiro Tests for Normality')\n",
    "for cnt in cntrys:\n",
    "    # Isolating data from each country\n",
    "    data_temp = data[data.cntry ==cnt].dropna()\n",
    "    for year in years:\n",
    "        # Printing Shapiro test results\n",
    "        print(cnt, year, shapiro(data_temp[data_temp.year ==year].happy))\n",
    "    print()"
   ]
  },
  {
   "cell_type": "markdown",
   "metadata": {},
   "source": [
    "Again, the results of the Shapiro test and looking at the histrograms tell us that this information is not normally distributed. "
   ]
  },
  {
   "cell_type": "code",
   "execution_count": 11,
   "metadata": {},
   "outputs": [
    {
     "name": "stdout",
     "output_type": "stream",
     "text": [
      "Wilcoxon Signed-Rank Test\n",
      "CH WilcoxonResult(statistic=92816.5, pvalue=0.8208688161425343)\n",
      "\n",
      "CZ WilcoxonResult(statistic=73213.0, pvalue=0.01064243454053068)\n",
      "\n",
      "DE WilcoxonResult(statistic=23.5, pvalue=0.393351316918508)\n",
      "\n",
      "ES WilcoxonResult(statistic=231958.5, pvalue=0.04923868084306013)\n",
      "\n",
      "NO WilcoxonResult(statistic=67571.5, pvalue=2.7264367804254175e-06)\n",
      "\n",
      "SE WilcoxonResult(statistic=125481.0, pvalue=0.5136403441005022)\n",
      "\n"
     ]
    }
   ],
   "source": [
    "# Wilcoxon Signed Rank Test for each country between years.\n",
    "\n",
    "print('Wilcoxon Signed-Rank Test')\n",
    "for cnt in cntrys:\n",
    "    # Isolating data from each country\n",
    "    data_temp = data[data.cntry ==cnt]\n",
    "    \n",
    "    # Printing Shapiro test results\n",
    "    print(cnt, wilcoxon(data_temp[data_temp.year == 6].happy,\n",
    "                       y=data_temp[data_temp.year == 7].happy))\n",
    "    print()"
   ]
  },
  {
   "cell_type": "markdown",
   "metadata": {},
   "source": [
    "Looks like the difference is statistically significant in the Czech Republic as well as in Spain. But how?"
   ]
  },
  {
   "cell_type": "code",
   "execution_count": 12,
   "metadata": {},
   "outputs": [],
   "source": [
    "es_cz = data[data['cntry'].isin(['CZ', 'ES'])]"
   ]
  },
  {
   "cell_type": "code",
   "execution_count": 13,
   "metadata": {},
   "outputs": [
    {
     "data": {
      "text/plain": [
       "<matplotlib.axes._subplots.AxesSubplot at 0x125c48940>"
      ]
     },
     "execution_count": 13,
     "metadata": {},
     "output_type": "execute_result"
    },
    {
     "data": {
      "image/png": "[encoded data removed]",
      "text/plain": [
       "<Figure size 432x288 with 1 Axes>"
      ]
     },
     "metadata": {
      "needs_background": "light"
     },
     "output_type": "display_data"
    }
   ],
   "source": [
    "sns.barplot(x='cntry', y='happy', hue='year', data=es_cz)"
   ]
  },
  {
   "cell_type": "markdown",
   "metadata": {},
   "source": [
    "**Answer:** While it looked like happiness changed significantly in the Czech Republic and Spain from 2012 to 2014, it looks like it only increased in the Czech Republic."
   ]
  },
  {
   "cell_type": "markdown",
   "metadata": {},
   "source": [
    "# 3. Who reported watching more TV in 2012, men or women?"
   ]
  },
  {
   "cell_type": "code",
   "execution_count": 14,
   "metadata": {},
   "outputs": [],
   "source": [
    "tv_time = data[data['year'] == 6]"
   ]
  },
  {
   "cell_type": "code",
   "execution_count": 15,
   "metadata": {},
   "outputs": [
    {
     "data": {
      "image/png": "[encoded data removed]",
      "text/plain": [
       "<Figure size 432x216 with 2 Axes>"
      ]
     },
     "metadata": {
      "needs_background": "light"
     },
     "output_type": "display_data"
    }
   ],
   "source": [
    "g = sns.FacetGrid(tv_time, row='year', col='gndr', palette='pastel', dropna=True, sharey=False)\n",
    "g = g.map(plt.hist, 'tvtot', alpha=0.8)"
   ]
  },
  {
   "cell_type": "code",
   "execution_count": 16,
   "metadata": {},
   "outputs": [
    {
     "data": {
      "text/plain": [
       "<matplotlib.axes._subplots.AxesSubplot at 0x126e62128>"
      ]
     },
     "execution_count": 16,
     "metadata": {},
     "output_type": "execute_result"
    },
    {
     "data": {
      "image/png": "[encoded data removed]",
      "text/plain": [
       "<Figure size 432x288 with 1 Axes>"
      ]
     },
     "metadata": {
      "needs_background": "light"
     },
     "output_type": "display_data"
    }
   ],
   "source": [
    "sns.barplot(x='gndr', y='tvtot', data=tv_time)"
   ]
  },
  {
   "cell_type": "code",
   "execution_count": 17,
   "metadata": {},
   "outputs": [
    {
     "data": {
      "text/plain": [
       "1.0    2154\n",
       "2.0    2143\n",
       "Name: gndr, dtype: int64"
      ]
     },
     "execution_count": 17,
     "metadata": {},
     "output_type": "execute_result"
    }
   ],
   "source": [
    "tv_time['gndr'].value_counts()"
   ]
  },
  {
   "cell_type": "code",
   "execution_count": 18,
   "metadata": {},
   "outputs": [
    {
     "data": {
      "text/html": [
       "<div>\n",
       "<style scoped>\n",
       "    .dataframe tbody tr th:only-of-type {\n",
       "        vertical-align: middle;\n",
       "    }\n",
       "\n",
       "    .dataframe tbody tr th {\n",
       "        vertical-align: top;\n",
       "    }\n",
       "\n",
       "    .dataframe thead th {\n",
       "        text-align: right;\n",
       "    }\n",
       "</style>\n",
       "<table border=\"1\" class=\"dataframe\">\n",
       "  <thead>\n",
       "    <tr style=\"text-align: right;\">\n",
       "      <th></th>\n",
       "      <th>count</th>\n",
       "      <th>mean</th>\n",
       "      <th>std</th>\n",
       "      <th>min</th>\n",
       "      <th>25%</th>\n",
       "      <th>50%</th>\n",
       "      <th>75%</th>\n",
       "      <th>max</th>\n",
       "    </tr>\n",
       "    <tr>\n",
       "      <th>gndr</th>\n",
       "      <th></th>\n",
       "      <th></th>\n",
       "      <th></th>\n",
       "      <th></th>\n",
       "      <th></th>\n",
       "      <th></th>\n",
       "      <th></th>\n",
       "      <th></th>\n",
       "    </tr>\n",
       "  </thead>\n",
       "  <tbody>\n",
       "    <tr>\n",
       "      <th>1.0</th>\n",
       "      <td>2151.0</td>\n",
       "      <td>3.901906</td>\n",
       "      <td>1.983690</td>\n",
       "      <td>0.0</td>\n",
       "      <td>2.0</td>\n",
       "      <td>4.0</td>\n",
       "      <td>5.0</td>\n",
       "      <td>7.0</td>\n",
       "    </tr>\n",
       "    <tr>\n",
       "      <th>2.0</th>\n",
       "      <td>2140.0</td>\n",
       "      <td>3.944393</td>\n",
       "      <td>2.049457</td>\n",
       "      <td>0.0</td>\n",
       "      <td>2.0</td>\n",
       "      <td>4.0</td>\n",
       "      <td>6.0</td>\n",
       "      <td>7.0</td>\n",
       "    </tr>\n",
       "  </tbody>\n",
       "</table>\n",
       "</div>"
      ],
      "text/plain": [
       "       count      mean       std  min  25%  50%  75%  max\n",
       "gndr                                                     \n",
       "1.0   2151.0  3.901906  1.983690  0.0  2.0  4.0  5.0  7.0\n",
       "2.0   2140.0  3.944393  2.049457  0.0  2.0  4.0  6.0  7.0"
      ]
     },
     "execution_count": 18,
     "metadata": {},
     "output_type": "execute_result"
    }
   ],
   "source": [
    "tv_stats = tv_time.groupby('gndr').describe()\n",
    "\n",
    "tv_stats['tvtot']"
   ]
  },
  {
   "cell_type": "code",
   "execution_count": 19,
   "metadata": {},
   "outputs": [
    {
     "name": "stdout",
     "output_type": "stream",
     "text": [
      "Wilcoxon Test: WilcoxonResult(statistic=782530.0, pvalue=0.5033507782372963)\n"
     ]
    }
   ],
   "source": [
    "# Printing Wilcoxon Test for TV watching across genders\n",
    "print('Wilcoxon Test:', wilcoxon(tv_time[tv_time.gndr == 1].tvtot.dropna()[:2140], \n",
    "                                 y=tv_time[tv_time.gndr == 2].tvtot.dropna()))\n"
   ]
  },
  {
   "cell_type": "markdown",
   "metadata": {},
   "source": [
    "**Answer:** The amount of time spend watching TV by males and females is insignificantly different. "
   ]
  },
  {
   "cell_type": "markdown",
   "metadata": {},
   "source": [
    "# 4. Who was more likely to believe people were fair in 2012, people living with a partner or people living alone?"
   ]
  },
  {
   "cell_type": "code",
   "execution_count": 20,
   "metadata": {},
   "outputs": [],
   "source": [
    "data_2012 = data[data['year'] == 6]"
   ]
  },
  {
   "cell_type": "code",
   "execution_count": 21,
   "metadata": {},
   "outputs": [
    {
     "name": "stdout",
     "output_type": "stream",
     "text": [
      "Lives with Partner (1.0): (0.9410251975059509, 2.4778057341886867e-31)\n",
      "Lives Alone (2.0): (0.9561690092086792, 1.4302870646482291e-21)\n"
     ]
    },
    {
     "data": {
      "image/png": "[encoded data removed]",
      "text/plain": [
       "<Figure size 432x216 with 2 Axes>"
      ]
     },
     "metadata": {
      "needs_background": "light"
     },
     "output_type": "display_data"
    }
   ],
   "source": [
    "g = sns.FacetGrid(data_2012, row='year', col='partner', palette='pastel', dropna=True, sharey=False)\n",
    "g = g.map(plt.hist, 'pplfair', alpha=0.8)\n",
    "\n",
    "# Run the Shapiro Test for Normality\n",
    "\n",
    "print('Lives with Partner (1.0):', shapiro(data_2012[data_2012.partner == 1].pplfair.dropna()))\n",
    "print('Lives Alone (2.0):', shapiro(data_2012[data_2012.partner == 2].pplfair.dropna()))"
   ]
  },
  {
   "cell_type": "code",
   "execution_count": 33,
   "metadata": {},
   "outputs": [
    {
     "data": {
      "text/plain": [
       "1.0    2674\n",
       "2.0    1616\n",
       "Name: partner, dtype: int64"
      ]
     },
     "execution_count": 33,
     "metadata": {},
     "output_type": "execute_result"
    }
   ],
   "source": [
    "data_2012['partner'].dropna().value_counts()"
   ]
  },
  {
   "cell_type": "code",
   "execution_count": 34,
   "metadata": {},
   "outputs": [
    {
     "data": {
      "text/plain": [
       "1608"
      ]
     },
     "execution_count": 34,
     "metadata": {},
     "output_type": "execute_result"
    }
   ],
   "source": [
    "data_2012[data_2012.partner == 2].pplfair.dropna().count()"
   ]
  },
  {
   "cell_type": "code",
   "execution_count": 32,
   "metadata": {},
   "outputs": [
    {
     "name": "stdout",
     "output_type": "stream",
     "text": [
      "Wilcoxon Test: WilcoxonResult(statistic=426739.0, pvalue=0.004340158276254172)\n"
     ]
    }
   ],
   "source": [
    "# Printing Wilcoxon Test for fairness across living with and without partners.  \n",
    "# Using only first 1608 entries of living with partners to even counts.\n",
    "print('Wilcoxon Test:', wilcoxon(data_2012[data_2012.partner == 1].pplfair.dropna()[:1608], \n",
    "                                 y=data_2012[data_2012.partner == 2].pplfair.dropna()))"
   ]
  },
  {
   "cell_type": "markdown",
   "metadata": {},
   "source": [
    "The results of the Wilcoxon test state that there is a significant difference between partnered people and people living alone."
   ]
  },
  {
   "cell_type": "code",
   "execution_count": 36,
   "metadata": {},
   "outputs": [
    {
     "name": "stdout",
     "output_type": "stream",
     "text": [
      "Median Fairness for People living with Partners: 7.0\n",
      "Median Fairness for People living Alone: 6.0\n"
     ]
    }
   ],
   "source": [
    "print('Median Fairness for People living with Partners:', data_2012[data_2012.partner == 1].pplfair.median())\n",
    "print('Median Fairness for People living Alone:', data_2012[data_2012['partner'] == 2].pplfair.median())"
   ]
  },
  {
   "cell_type": "markdown",
   "metadata": {},
   "source": [
    "**Answer:** People who live with partners were more likely to believe people were fair in 2012."
   ]
  },
  {
   "cell_type": "markdown",
   "metadata": {},
   "source": [
    "# 5. Pick three or four of the countries in the sample and compare how often people met socially in 2014. Are there differences, and if so, which countries stand out?"
   ]
  },
  {
   "cell_type": "code",
   "execution_count": 41,
   "metadata": {},
   "outputs": [],
   "source": [
    "# Looking at Spain, Norway, Sweden, and the Czech Republic - ES, SE, CZ, NO\n",
    "\n",
    "data_2014 = data[data['year'] == 7]\n",
    "\n",
    "country_subset = data_2014[data_2014['cntry'].isin(['ES', 'SE', 'CZ', 'NO'])]"
   ]
  },
  {
   "cell_type": "code",
   "execution_count": 42,
   "metadata": {},
   "outputs": [
    {
     "data": {
      "text/html": [
       "<div>\n",
       "<style scoped>\n",
       "    .dataframe tbody tr th:only-of-type {\n",
       "        vertical-align: middle;\n",
       "    }\n",
       "\n",
       "    .dataframe tbody tr th {\n",
       "        vertical-align: top;\n",
       "    }\n",
       "\n",
       "    .dataframe thead th {\n",
       "        text-align: right;\n",
       "    }\n",
       "</style>\n",
       "<table border=\"1\" class=\"dataframe\">\n",
       "  <thead>\n",
       "    <tr style=\"text-align: right;\">\n",
       "      <th></th>\n",
       "      <th>cntry</th>\n",
       "      <th>idno</th>\n",
       "      <th>year</th>\n",
       "      <th>tvtot</th>\n",
       "      <th>ppltrst</th>\n",
       "      <th>pplfair</th>\n",
       "      <th>pplhlp</th>\n",
       "      <th>happy</th>\n",
       "      <th>sclmeet</th>\n",
       "      <th>sclact</th>\n",
       "      <th>gndr</th>\n",
       "      <th>agea</th>\n",
       "      <th>partner</th>\n",
       "    </tr>\n",
       "  </thead>\n",
       "  <tbody>\n",
       "    <tr>\n",
       "      <th>2204</th>\n",
       "      <td>CZ</td>\n",
       "      <td>1001.0</td>\n",
       "      <td>7</td>\n",
       "      <td>5.0</td>\n",
       "      <td>3.0</td>\n",
       "      <td>3.0</td>\n",
       "      <td>2.0</td>\n",
       "      <td>7.0</td>\n",
       "      <td>4.0</td>\n",
       "      <td>4.0</td>\n",
       "      <td>2.0</td>\n",
       "      <td>71.0</td>\n",
       "      <td>2.0</td>\n",
       "    </tr>\n",
       "    <tr>\n",
       "      <th>2205</th>\n",
       "      <td>CZ</td>\n",
       "      <td>1002.0</td>\n",
       "      <td>7</td>\n",
       "      <td>5.0</td>\n",
       "      <td>5.0</td>\n",
       "      <td>7.0</td>\n",
       "      <td>3.0</td>\n",
       "      <td>5.0</td>\n",
       "      <td>5.0</td>\n",
       "      <td>1.0</td>\n",
       "      <td>2.0</td>\n",
       "      <td>52.0</td>\n",
       "      <td>1.0</td>\n",
       "    </tr>\n",
       "    <tr>\n",
       "      <th>2206</th>\n",
       "      <td>CZ</td>\n",
       "      <td>1003.0</td>\n",
       "      <td>7</td>\n",
       "      <td>7.0</td>\n",
       "      <td>5.0</td>\n",
       "      <td>4.0</td>\n",
       "      <td>3.0</td>\n",
       "      <td>6.0</td>\n",
       "      <td>4.0</td>\n",
       "      <td>3.0</td>\n",
       "      <td>1.0</td>\n",
       "      <td>55.0</td>\n",
       "      <td>2.0</td>\n",
       "    </tr>\n",
       "    <tr>\n",
       "      <th>2207</th>\n",
       "      <td>CZ</td>\n",
       "      <td>1004.0</td>\n",
       "      <td>7</td>\n",
       "      <td>7.0</td>\n",
       "      <td>5.0</td>\n",
       "      <td>5.0</td>\n",
       "      <td>3.0</td>\n",
       "      <td>7.0</td>\n",
       "      <td>4.0</td>\n",
       "      <td>3.0</td>\n",
       "      <td>1.0</td>\n",
       "      <td>64.0</td>\n",
       "      <td>1.0</td>\n",
       "    </tr>\n",
       "    <tr>\n",
       "      <th>2208</th>\n",
       "      <td>CZ</td>\n",
       "      <td>1005.0</td>\n",
       "      <td>7</td>\n",
       "      <td>3.0</td>\n",
       "      <td>4.0</td>\n",
       "      <td>5.0</td>\n",
       "      <td>5.0</td>\n",
       "      <td>6.0</td>\n",
       "      <td>5.0</td>\n",
       "      <td>3.0</td>\n",
       "      <td>1.0</td>\n",
       "      <td>59.0</td>\n",
       "      <td>1.0</td>\n",
       "    </tr>\n",
       "  </tbody>\n",
       "</table>\n",
       "</div>"
      ],
      "text/plain": [
       "     cntry    idno  year  tvtot  ppltrst  pplfair  pplhlp  happy  sclmeet  \\\n",
       "2204    CZ  1001.0     7    5.0      3.0      3.0     2.0    7.0      4.0   \n",
       "2205    CZ  1002.0     7    5.0      5.0      7.0     3.0    5.0      5.0   \n",
       "2206    CZ  1003.0     7    7.0      5.0      4.0     3.0    6.0      4.0   \n",
       "2207    CZ  1004.0     7    7.0      5.0      5.0     3.0    7.0      4.0   \n",
       "2208    CZ  1005.0     7    3.0      4.0      5.0     5.0    6.0      5.0   \n",
       "\n",
       "      sclact  gndr  agea  partner  \n",
       "2204     4.0   2.0  71.0      2.0  \n",
       "2205     1.0   2.0  52.0      1.0  \n",
       "2206     3.0   1.0  55.0      2.0  \n",
       "2207     3.0   1.0  64.0      1.0  \n",
       "2208     3.0   1.0  59.0      1.0  "
      ]
     },
     "execution_count": 42,
     "metadata": {},
     "output_type": "execute_result"
    }
   ],
   "source": [
    "country_subset.head()"
   ]
  },
  {
   "cell_type": "code",
   "execution_count": 45,
   "metadata": {},
   "outputs": [
    {
     "name": "stdout",
     "output_type": "stream",
     "text": [
      "\t\t\t\t\tDistribution of Social Meetings\n"
     ]
    },
    {
     "data": {
      "image/png": "[encoded data removed]",
      "text/plain": [
       "<Figure size 864x216 with 4 Axes>"
      ]
     },
     "metadata": {
      "needs_background": "light"
     },
     "output_type": "display_data"
    },
    {
     "name": "stdout",
     "output_type": "stream",
     "text": [
      "Shapiro Tests for Normality\n",
      "CZ 7 (0.9448645710945129, 3.1643033327052525e-14)\n",
      "\n",
      "ES 7 (0.9136462211608887, 6.898763644671094e-25)\n",
      "\n",
      "NO 7 (0.8795287609100342, 4.6808705797415216e-23)\n",
      "\n",
      "SE 7 (0.912103533744812, 5.600742285549146e-22)\n",
      "\n"
     ]
    }
   ],
   "source": [
    "# Plotting histograms of trust for each country for each year\n",
    "g = sns.FacetGrid(country_subset, row='year', col='cntry', palette='pastel', dropna=True, sharey=False)\n",
    "g = g.map(plt.hist, 'sclmeet', alpha=0.8)\n",
    "print('\\t\\t\\t\\t\\tDistribution of Social Meetings')\n",
    "plt.show()\n",
    "\n",
    "# Testing each country and each year to determine if trust is normally distributed through Shapiro test\n",
    "# Creating lists of countries and years\n",
    "cntrys = list(country_subset.cntry.unique())\n",
    "years = [6,7]\n",
    "print('Shapiro Tests for Normality')\n",
    "for cnt in cntrys:\n",
    "    # Isolating data from each country\n",
    "    data_temp = country_subset[country_subset.cntry ==cnt].dropna()\n",
    "    print(cnt, year, shapiro(data_temp[data_temp.year ==year].happy))\n",
    "    print()"
   ]
  },
  {
   "cell_type": "code",
   "execution_count": 51,
   "metadata": {},
   "outputs": [
    {
     "data": {
      "text/plain": [
       "<matplotlib.axes._subplots.AxesSubplot at 0x12692d320>"
      ]
     },
     "execution_count": 51,
     "metadata": {},
     "output_type": "execute_result"
    },
    {
     "data": {
      "image/png": "[encoded data removed]",
      "text/plain": [
       "<Figure size 432x288 with 1 Axes>"
      ]
     },
     "metadata": {
      "needs_background": "light"
     },
     "output_type": "display_data"
    }
   ],
   "source": [
    "sns.barplot(x='cntry', y='sclmeet', data=country_subset)"
   ]
  },
  {
   "cell_type": "code",
   "execution_count": 58,
   "metadata": {},
   "outputs": [],
   "source": [
    "es_soc = country_subset[country_subset['cntry'] == 'ES'].sclmeet.dropna()\n",
    "cz_soc = country_subset[country_subset['cntry'] == 'CZ'].sclmeet.dropna()\n",
    "no_soc = country_subset[country_subset['cntry'] == 'NO'].sclmeet.dropna()\n",
    "se_soc = country_subset[country_subset['cntry'] == 'SE'].sclmeet.dropna()"
   ]
  },
  {
   "cell_type": "code",
   "execution_count": 59,
   "metadata": {},
   "outputs": [
    {
     "name": "stdout",
     "output_type": "stream",
     "text": [
      "KruskalResult(statistic=199.91509305978323, pvalue=4.400563536291911e-43)\n"
     ]
    }
   ],
   "source": [
    "# Printing Kruskal test statistic\n",
    "print(kruskal(es_soc,\n",
    "             cz_soc,\n",
    "             no_soc,\n",
    "             se_soc))"
   ]
  },
  {
   "cell_type": "markdown",
   "metadata": {},
   "source": [
    "Reading the Kruskal test, we can see that the distributions of social meetings are different from one another. We need to run t-tests for all distributions against each other to determine which ones are the different."
   ]
  },
  {
   "cell_type": "code",
   "execution_count": 66,
   "metadata": {},
   "outputs": [
    {
     "name": "stdout",
     "output_type": "stream",
     "text": [
      "Social T-test for Spain vs Czech Republic, Norway, and Sweden:\n",
      "Ttest_indResult(statistic=11.400026538179093, pvalue=3.7676844407353374e-29)\n",
      "Ttest_indResult(statistic=-0.632916395870007, pvalue=0.5268628350318294)\n",
      "Ttest_indResult(statistic=-2.649547268580078, pvalue=0.00811992279651295)\n",
      "\n",
      "\n",
      "Social T-test for Czech Republic vs Norway and Sweden:\n",
      "Ttest_indResult(statistic=-11.269186128577815, pvalue=3.0334022155191707e-28)\n",
      "Ttest_indResult(statistic=-13.471687937687198, pvalue=3.252593934148172e-39)\n",
      "\n",
      "\n",
      "Social T-test for Norway vs Sweden:\n",
      "Ttest_indResult(statistic=-1.8305856428076237, pvalue=0.06734412432597783)\n"
     ]
    }
   ],
   "source": [
    "print('Social T-test for Spain vs Czech Republic, Norway, and Sweden:')\n",
    "print(stats.ttest_ind(es_soc, cz_soc))\n",
    "print(stats.ttest_ind(es_soc, no_soc))\n",
    "print(stats.ttest_ind(es_soc, se_soc))\n",
    "print('\\n')\n",
    "\n",
    "print('Social T-test for Czech Republic vs Norway and Sweden:')\n",
    "print(stats.ttest_ind(cz_soc, no_soc))\n",
    "print(stats.ttest_ind(cz_soc, se_soc))\n",
    "print('\\n')\n",
    "\n",
    "print('Social T-test for Norway vs Sweden:')\n",
    "print(stats.ttest_ind(no_soc, se_soc))\n"
   ]
  },
  {
   "cell_type": "markdown",
   "metadata": {},
   "source": [
    "**Answer:** From the data we can conclude the following:\n",
    "\n",
    "* **Spain** is significantly different from the Czech Republic and Sweden, but not significantly different from Norway.\n",
    "* **The Czech Republic** is significantly different from all three other countries (Spain, Norway, and Sweden)  \n",
    "* **Norway** is slightly different from Sweden, but not enough that it cannot be clearly stated that there is a statistically significant difference. "
   ]
  },
  {
   "cell_type": "markdown",
   "metadata": {},
   "source": [
    "# 6. Pick three or four of the countries in the sample and compare how often people took part in social activities, relative to others their age, in 2014. Are there differences, and if so, which countries stand out?"
   ]
  },
  {
   "cell_type": "code",
   "execution_count": 70,
   "metadata": {},
   "outputs": [
    {
     "data": {
      "text/plain": [
       "count    3419.000000\n",
       "mean       47.646680\n",
       "std        18.553587\n",
       "min        15.000000\n",
       "25%        33.000000\n",
       "50%        47.000000\n",
       "75%        62.000000\n",
       "max       114.000000\n",
       "Name: agea, dtype: float64"
      ]
     },
     "execution_count": 70,
     "metadata": {},
     "output_type": "execute_result"
    }
   ],
   "source": [
    "country_subset['agea'].describe()"
   ]
  },
  {
   "cell_type": "code",
   "execution_count": 71,
   "metadata": {},
   "outputs": [
    {
     "data": {
      "text/plain": [
       "15.0"
      ]
     },
     "execution_count": 71,
     "metadata": {},
     "output_type": "execute_result"
    }
   ],
   "source": [
    "country_subset['agea'].min()"
   ]
  },
  {
   "cell_type": "code",
   "execution_count": 72,
   "metadata": {},
   "outputs": [
    {
     "data": {
      "text/plain": [
       "<matplotlib.axes._subplots.AxesSubplot at 0x1278eb588>"
      ]
     },
     "execution_count": 72,
     "metadata": {},
     "output_type": "execute_result"
    },
    {
     "data": {
      "image/png": "[encoded data removed]",
      "text/plain": [
       "<Figure size 432x288 with 1 Axes>"
      ]
     },
     "metadata": {
      "needs_background": "light"
     },
     "output_type": "display_data"
    }
   ],
   "source": [
    "sns.boxplot(country_subset['agea'])"
   ]
  },
  {
   "cell_type": "code",
   "execution_count": 76,
   "metadata": {},
   "outputs": [
    {
     "data": {
      "text/html": [
       "<div>\n",
       "<style scoped>\n",
       "    .dataframe tbody tr th:only-of-type {\n",
       "        vertical-align: middle;\n",
       "    }\n",
       "\n",
       "    .dataframe tbody tr th {\n",
       "        vertical-align: top;\n",
       "    }\n",
       "\n",
       "    .dataframe thead th {\n",
       "        text-align: right;\n",
       "    }\n",
       "</style>\n",
       "<table border=\"1\" class=\"dataframe\">\n",
       "  <thead>\n",
       "    <tr style=\"text-align: right;\">\n",
       "      <th></th>\n",
       "      <th>cntry</th>\n",
       "      <th>idno</th>\n",
       "      <th>year</th>\n",
       "      <th>tvtot</th>\n",
       "      <th>ppltrst</th>\n",
       "      <th>pplfair</th>\n",
       "      <th>pplhlp</th>\n",
       "      <th>happy</th>\n",
       "      <th>sclmeet</th>\n",
       "      <th>sclact</th>\n",
       "      <th>gndr</th>\n",
       "      <th>agea</th>\n",
       "      <th>partner</th>\n",
       "    </tr>\n",
       "  </thead>\n",
       "  <tbody>\n",
       "    <tr>\n",
       "      <th>4353</th>\n",
       "      <td>ES</td>\n",
       "      <td>662.0</td>\n",
       "      <td>7</td>\n",
       "      <td>3.0</td>\n",
       "      <td>4.0</td>\n",
       "      <td>6.0</td>\n",
       "      <td>2.0</td>\n",
       "      <td>7.0</td>\n",
       "      <td>7.0</td>\n",
       "      <td>3.0</td>\n",
       "      <td>1.0</td>\n",
       "      <td>93.0</td>\n",
       "      <td>1.0</td>\n",
       "    </tr>\n",
       "    <tr>\n",
       "      <th>4747</th>\n",
       "      <td>ES</td>\n",
       "      <td>1546.0</td>\n",
       "      <td>7</td>\n",
       "      <td>3.0</td>\n",
       "      <td>7.0</td>\n",
       "      <td>7.0</td>\n",
       "      <td>6.0</td>\n",
       "      <td>7.0</td>\n",
       "      <td>6.0</td>\n",
       "      <td>3.0</td>\n",
       "      <td>2.0</td>\n",
       "      <td>101.0</td>\n",
       "      <td>2.0</td>\n",
       "    </tr>\n",
       "    <tr>\n",
       "      <th>6100</th>\n",
       "      <td>NO</td>\n",
       "      <td>7356.0</td>\n",
       "      <td>7</td>\n",
       "      <td>7.0</td>\n",
       "      <td>2.0</td>\n",
       "      <td>8.0</td>\n",
       "      <td>7.0</td>\n",
       "      <td>3.0</td>\n",
       "      <td>6.0</td>\n",
       "      <td>1.0</td>\n",
       "      <td>2.0</td>\n",
       "      <td>91.0</td>\n",
       "      <td>2.0</td>\n",
       "    </tr>\n",
       "    <tr>\n",
       "      <th>6433</th>\n",
       "      <td>NO</td>\n",
       "      <td>14784.0</td>\n",
       "      <td>7</td>\n",
       "      <td>0.0</td>\n",
       "      <td>8.0</td>\n",
       "      <td>8.0</td>\n",
       "      <td>8.0</td>\n",
       "      <td>8.0</td>\n",
       "      <td>6.0</td>\n",
       "      <td>3.0</td>\n",
       "      <td>1.0</td>\n",
       "      <td>93.0</td>\n",
       "      <td>1.0</td>\n",
       "    </tr>\n",
       "    <tr>\n",
       "      <th>6538</th>\n",
       "      <td>NO</td>\n",
       "      <td>17328.0</td>\n",
       "      <td>7</td>\n",
       "      <td>7.0</td>\n",
       "      <td>5.0</td>\n",
       "      <td>8.0</td>\n",
       "      <td>5.0</td>\n",
       "      <td>6.0</td>\n",
       "      <td>6.0</td>\n",
       "      <td>3.0</td>\n",
       "      <td>2.0</td>\n",
       "      <td>94.0</td>\n",
       "      <td>2.0</td>\n",
       "    </tr>\n",
       "    <tr>\n",
       "      <th>6564</th>\n",
       "      <td>NO</td>\n",
       "      <td>17886.0</td>\n",
       "      <td>7</td>\n",
       "      <td>6.0</td>\n",
       "      <td>5.0</td>\n",
       "      <td>8.0</td>\n",
       "      <td>10.0</td>\n",
       "      <td>8.0</td>\n",
       "      <td>4.0</td>\n",
       "      <td>3.0</td>\n",
       "      <td>1.0</td>\n",
       "      <td>92.0</td>\n",
       "      <td>1.0</td>\n",
       "    </tr>\n",
       "    <tr>\n",
       "      <th>7686</th>\n",
       "      <td>SE</td>\n",
       "      <td>7.0</td>\n",
       "      <td>7</td>\n",
       "      <td>3.0</td>\n",
       "      <td>0.0</td>\n",
       "      <td>5.0</td>\n",
       "      <td>7.0</td>\n",
       "      <td>9.0</td>\n",
       "      <td>4.0</td>\n",
       "      <td>4.0</td>\n",
       "      <td>2.0</td>\n",
       "      <td>95.0</td>\n",
       "      <td>2.0</td>\n",
       "    </tr>\n",
       "    <tr>\n",
       "      <th>7687</th>\n",
       "      <td>SE</td>\n",
       "      <td>13.0</td>\n",
       "      <td>7</td>\n",
       "      <td>2.0</td>\n",
       "      <td>6.0</td>\n",
       "      <td>NaN</td>\n",
       "      <td>8.0</td>\n",
       "      <td>6.0</td>\n",
       "      <td>7.0</td>\n",
       "      <td>4.0</td>\n",
       "      <td>2.0</td>\n",
       "      <td>94.0</td>\n",
       "      <td>2.0</td>\n",
       "    </tr>\n",
       "    <tr>\n",
       "      <th>7688</th>\n",
       "      <td>SE</td>\n",
       "      <td>22.0</td>\n",
       "      <td>7</td>\n",
       "      <td>5.0</td>\n",
       "      <td>5.0</td>\n",
       "      <td>5.0</td>\n",
       "      <td>8.0</td>\n",
       "      <td>5.0</td>\n",
       "      <td>7.0</td>\n",
       "      <td>2.0</td>\n",
       "      <td>1.0</td>\n",
       "      <td>93.0</td>\n",
       "      <td>2.0</td>\n",
       "    </tr>\n",
       "    <tr>\n",
       "      <th>7689</th>\n",
       "      <td>SE</td>\n",
       "      <td>30.0</td>\n",
       "      <td>7</td>\n",
       "      <td>7.0</td>\n",
       "      <td>7.0</td>\n",
       "      <td>7.0</td>\n",
       "      <td>8.0</td>\n",
       "      <td>10.0</td>\n",
       "      <td>7.0</td>\n",
       "      <td>3.0</td>\n",
       "      <td>1.0</td>\n",
       "      <td>91.0</td>\n",
       "      <td>1.0</td>\n",
       "    </tr>\n",
       "    <tr>\n",
       "      <th>7690</th>\n",
       "      <td>SE</td>\n",
       "      <td>39.0</td>\n",
       "      <td>7</td>\n",
       "      <td>7.0</td>\n",
       "      <td>5.0</td>\n",
       "      <td>9.0</td>\n",
       "      <td>8.0</td>\n",
       "      <td>8.0</td>\n",
       "      <td>6.0</td>\n",
       "      <td>2.0</td>\n",
       "      <td>2.0</td>\n",
       "      <td>91.0</td>\n",
       "      <td>2.0</td>\n",
       "    </tr>\n",
       "    <tr>\n",
       "      <th>8184</th>\n",
       "      <td>SE</td>\n",
       "      <td>1801.0</td>\n",
       "      <td>7</td>\n",
       "      <td>1.0</td>\n",
       "      <td>8.0</td>\n",
       "      <td>6.0</td>\n",
       "      <td>5.0</td>\n",
       "      <td>10.0</td>\n",
       "      <td>7.0</td>\n",
       "      <td>2.0</td>\n",
       "      <td>1.0</td>\n",
       "      <td>114.0</td>\n",
       "      <td>2.0</td>\n",
       "    </tr>\n",
       "  </tbody>\n",
       "</table>\n",
       "</div>"
      ],
      "text/plain": [
       "     cntry     idno  year  tvtot  ppltrst  pplfair  pplhlp  happy  sclmeet  \\\n",
       "4353    ES    662.0     7    3.0      4.0      6.0     2.0    7.0      7.0   \n",
       "4747    ES   1546.0     7    3.0      7.0      7.0     6.0    7.0      6.0   \n",
       "6100    NO   7356.0     7    7.0      2.0      8.0     7.0    3.0      6.0   \n",
       "6433    NO  14784.0     7    0.0      8.0      8.0     8.0    8.0      6.0   \n",
       "6538    NO  17328.0     7    7.0      5.0      8.0     5.0    6.0      6.0   \n",
       "6564    NO  17886.0     7    6.0      5.0      8.0    10.0    8.0      4.0   \n",
       "7686    SE      7.0     7    3.0      0.0      5.0     7.0    9.0      4.0   \n",
       "7687    SE     13.0     7    2.0      6.0      NaN     8.0    6.0      7.0   \n",
       "7688    SE     22.0     7    5.0      5.0      5.0     8.0    5.0      7.0   \n",
       "7689    SE     30.0     7    7.0      7.0      7.0     8.0   10.0      7.0   \n",
       "7690    SE     39.0     7    7.0      5.0      9.0     8.0    8.0      6.0   \n",
       "8184    SE   1801.0     7    1.0      8.0      6.0     5.0   10.0      7.0   \n",
       "\n",
       "      sclact  gndr   agea  partner  \n",
       "4353     3.0   1.0   93.0      1.0  \n",
       "4747     3.0   2.0  101.0      2.0  \n",
       "6100     1.0   2.0   91.0      2.0  \n",
       "6433     3.0   1.0   93.0      1.0  \n",
       "6538     3.0   2.0   94.0      2.0  \n",
       "6564     3.0   1.0   92.0      1.0  \n",
       "7686     4.0   2.0   95.0      2.0  \n",
       "7687     4.0   2.0   94.0      2.0  \n",
       "7688     2.0   1.0   93.0      2.0  \n",
       "7689     3.0   1.0   91.0      1.0  \n",
       "7690     2.0   2.0   91.0      2.0  \n",
       "8184     2.0   1.0  114.0      2.0  "
      ]
     },
     "execution_count": 76,
     "metadata": {},
     "output_type": "execute_result"
    }
   ],
   "source": [
    "country_subset[country_subset['agea'] > ]"
   ]
  },
  {
   "cell_type": "code",
   "execution_count": 91,
   "metadata": {},
   "outputs": [
    {
     "name": "stderr",
     "output_type": "stream",
     "text": [
      "/usr/local/lib/python3.7/site-packages/ipykernel_launcher.py:10: SettingWithCopyWarning: \n",
      "A value is trying to be set on a copy of a slice from a DataFrame.\n",
      "Try using .loc[row_indexer,col_indexer] = value instead\n",
      "\n",
      "See the caveats in the documentation: http://pandas.pydata.org/pandas-docs/stable/indexing.html#indexing-view-versus-copy\n",
      "  # Remove the CWD from sys.path while we load stuff.\n"
     ]
    }
   ],
   "source": [
    "age_bins= [15,34,53,71,89,(country_subset['agea'].max()+1)]\n",
    "\n",
    "\n",
    "age_labels = ['15-33', '34-52', '53-70', '71-89', '89+']\n",
    "country_subset['age_groups'] = pd.cut(country_subset['agea'], bins=age_bins, labels=age_labels, right=False)"
   ]
  },
  {
   "cell_type": "code",
   "execution_count": 86,
   "metadata": {},
   "outputs": [
    {
     "data": {
      "text/html": [
       "<div>\n",
       "<style scoped>\n",
       "    .dataframe tbody tr th:only-of-type {\n",
       "        vertical-align: middle;\n",
       "    }\n",
       "\n",
       "    .dataframe tbody tr th {\n",
       "        vertical-align: top;\n",
       "    }\n",
       "\n",
       "    .dataframe thead th {\n",
       "        text-align: right;\n",
       "    }\n",
       "</style>\n",
       "<table border=\"1\" class=\"dataframe\">\n",
       "  <thead>\n",
       "    <tr style=\"text-align: right;\">\n",
       "      <th></th>\n",
       "      <th>cntry</th>\n",
       "      <th>idno</th>\n",
       "      <th>year</th>\n",
       "      <th>tvtot</th>\n",
       "      <th>ppltrst</th>\n",
       "      <th>pplfair</th>\n",
       "      <th>pplhlp</th>\n",
       "      <th>happy</th>\n",
       "      <th>sclmeet</th>\n",
       "      <th>sclact</th>\n",
       "      <th>gndr</th>\n",
       "      <th>agea</th>\n",
       "      <th>partner</th>\n",
       "      <th>age_groups</th>\n",
       "    </tr>\n",
       "  </thead>\n",
       "  <tbody>\n",
       "    <tr>\n",
       "      <th>2204</th>\n",
       "      <td>CZ</td>\n",
       "      <td>1001.0</td>\n",
       "      <td>7</td>\n",
       "      <td>5.0</td>\n",
       "      <td>3.0</td>\n",
       "      <td>3.0</td>\n",
       "      <td>2.0</td>\n",
       "      <td>7.0</td>\n",
       "      <td>4.0</td>\n",
       "      <td>4.0</td>\n",
       "      <td>2.0</td>\n",
       "      <td>71.0</td>\n",
       "      <td>2.0</td>\n",
       "      <td>4</td>\n",
       "    </tr>\n",
       "    <tr>\n",
       "      <th>2205</th>\n",
       "      <td>CZ</td>\n",
       "      <td>1002.0</td>\n",
       "      <td>7</td>\n",
       "      <td>5.0</td>\n",
       "      <td>5.0</td>\n",
       "      <td>7.0</td>\n",
       "      <td>3.0</td>\n",
       "      <td>5.0</td>\n",
       "      <td>5.0</td>\n",
       "      <td>1.0</td>\n",
       "      <td>2.0</td>\n",
       "      <td>52.0</td>\n",
       "      <td>1.0</td>\n",
       "      <td>2</td>\n",
       "    </tr>\n",
       "    <tr>\n",
       "      <th>2206</th>\n",
       "      <td>CZ</td>\n",
       "      <td>1003.0</td>\n",
       "      <td>7</td>\n",
       "      <td>7.0</td>\n",
       "      <td>5.0</td>\n",
       "      <td>4.0</td>\n",
       "      <td>3.0</td>\n",
       "      <td>6.0</td>\n",
       "      <td>4.0</td>\n",
       "      <td>3.0</td>\n",
       "      <td>1.0</td>\n",
       "      <td>55.0</td>\n",
       "      <td>2.0</td>\n",
       "      <td>3</td>\n",
       "    </tr>\n",
       "    <tr>\n",
       "      <th>2207</th>\n",
       "      <td>CZ</td>\n",
       "      <td>1004.0</td>\n",
       "      <td>7</td>\n",
       "      <td>7.0</td>\n",
       "      <td>5.0</td>\n",
       "      <td>5.0</td>\n",
       "      <td>3.0</td>\n",
       "      <td>7.0</td>\n",
       "      <td>4.0</td>\n",
       "      <td>3.0</td>\n",
       "      <td>1.0</td>\n",
       "      <td>64.0</td>\n",
       "      <td>1.0</td>\n",
       "      <td>3</td>\n",
       "    </tr>\n",
       "    <tr>\n",
       "      <th>2208</th>\n",
       "      <td>CZ</td>\n",
       "      <td>1005.0</td>\n",
       "      <td>7</td>\n",
       "      <td>3.0</td>\n",
       "      <td>4.0</td>\n",
       "      <td>5.0</td>\n",
       "      <td>5.0</td>\n",
       "      <td>6.0</td>\n",
       "      <td>5.0</td>\n",
       "      <td>3.0</td>\n",
       "      <td>1.0</td>\n",
       "      <td>59.0</td>\n",
       "      <td>1.0</td>\n",
       "      <td>3</td>\n",
       "    </tr>\n",
       "  </tbody>\n",
       "</table>\n",
       "</div>"
      ],
      "text/plain": [
       "     cntry    idno  year  tvtot  ppltrst  pplfair  pplhlp  happy  sclmeet  \\\n",
       "2204    CZ  1001.0     7    5.0      3.0      3.0     2.0    7.0      4.0   \n",
       "2205    CZ  1002.0     7    5.0      5.0      7.0     3.0    5.0      5.0   \n",
       "2206    CZ  1003.0     7    7.0      5.0      4.0     3.0    6.0      4.0   \n",
       "2207    CZ  1004.0     7    7.0      5.0      5.0     3.0    7.0      4.0   \n",
       "2208    CZ  1005.0     7    3.0      4.0      5.0     5.0    6.0      5.0   \n",
       "\n",
       "      sclact  gndr  agea  partner age_groups  \n",
       "2204     4.0   2.0  71.0      2.0          4  \n",
       "2205     1.0   2.0  52.0      1.0          2  \n",
       "2206     3.0   1.0  55.0      2.0          3  \n",
       "2207     3.0   1.0  64.0      1.0          3  \n",
       "2208     3.0   1.0  59.0      1.0          3  "
      ]
     },
     "execution_count": 86,
     "metadata": {},
     "output_type": "execute_result"
    }
   ],
   "source": [
    "country_subset.head()"
   ]
  },
  {
   "cell_type": "code",
   "execution_count": 92,
   "metadata": {
    "scrolled": false
   },
   "outputs": [
    {
     "name": "stdout",
     "output_type": "stream",
     "text": [
      "\t\tDistribution of Social Activities from 2014 for Four European Countries\n"
     ]
    },
    {
     "data": {
      "image/png": "[encoded data removed]",
      "text/plain": [
       "<Figure size 864x1080 with 20 Axes>"
      ]
     },
     "metadata": {
      "needs_background": "light"
     },
     "output_type": "display_data"
    },
    {
     "name": "stdout",
     "output_type": "stream",
     "text": [
      "Shapiro Tests for Normality\n",
      "CZ 15-33 (0.9187135696411133, 1.1932961285765487e-07)\n",
      "\n",
      "CZ 34-52 (0.9446314573287964, 1.0235982728090676e-07)\n",
      "\n",
      "CZ 53-70 (0.9303797483444214, 9.513244236813989e-08)\n",
      "\n",
      "CZ 71-89 (0.9335976243019104, 0.039858125150203705)\n",
      "\n",
      "\n",
      "ES 15-33 (0.9100622534751892, 4.950634520384245e-12)\n",
      "\n",
      "ES 34-52 (0.9020270109176636, 1.3782746475967788e-15)\n",
      "\n",
      "ES 53-70 (0.9339866638183594, 4.0932721101505365e-10)\n",
      "\n",
      "ES 71-89 (0.9064923524856567, 1.0254284887878384e-07)\n",
      "\n",
      "ES 89+ (0.9348940253257751, 0.46245166659355164)\n",
      "\n",
      "NO 15-33 (0.9132307171821594, 3.3540568100676182e-09)\n",
      "\n",
      "NO 34-52 (0.8571600317955017, 3.3573282500441726e-14)\n",
      "\n",
      "NO 53-70 (0.8649387359619141, 1.8937251940187583e-12)\n",
      "\n",
      "NO 71-89 (0.9101658463478088, 0.00010008494427893311)\n",
      "\n",
      "NO 89+ (0.9417939186096191, 0.6786479353904724)\n",
      "\n",
      "SE 15-33 (0.9161946177482605, 3.735189102460623e-10)\n",
      "\n",
      "SE 34-52 (0.9147279262542725, 4.550108345657833e-10)\n",
      "\n",
      "SE 53-70 (0.9056249856948853, 5.569349668943513e-12)\n",
      "\n",
      "SE 71-89 (0.9019975662231445, 6.897100490732555e-08)\n",
      "\n",
      "SE 89+ (0.8255683779716492, 0.09854588657617569)\n",
      "\n"
     ]
    }
   ],
   "source": [
    "g = sns.FacetGrid(country_subset, row='age_groups', col='cntry', dropna=True, sharey=False)\n",
    "g = g.map(plt.hist, 'sclact', alpha=0.8, color='teal', bins=5)\n",
    "print('\\t\\tDistribution of Social Activities from 2014 for Four European Countries')\n",
    "plt.show()\n",
    "\n",
    "# Testing each country and each year to determine if social activity is normally distributed through Shapiro test\n",
    "# Creating lists of countries and years\n",
    "\n",
    "cntrys = list(country_subset.cntry.unique())\n",
    "years = ['15-33', '34-52', '53-70', '71-89', '89+']\n",
    "print('Shapiro Tests for Normality')\n",
    "for cnt in cntrys:\n",
    "    # Isolating data from each country\n",
    "    data_temp = country_subset[country_subset.cntry ==cnt].dropna()\n",
    "    for year in years:\n",
    "        try:\n",
    "        # Printing Shapiro test results\n",
    "            print(cnt, year, shapiro(data_temp[data_temp.age_groups ==year].happy))\n",
    "        except ValueError:\n",
    "            None\n",
    "        print()\n",
    "\n",
    "\n",
    "#cntrys = list(country_subset.cntry.unique())\n",
    "#years = [1,2,3,4,5]\n",
    "#print('Shapiro Tests for Normality')\n",
    "#for cnt in cntrys:\n",
    "    # Printing Shapiro test results\n",
    "#    print(cnt, shapiro(country_subset[country_subset.cntry ==cnt].sclact.dropna()))\n",
    "#    print()"
   ]
  },
  {
   "cell_type": "markdown",
   "metadata": {},
   "source": [
    "The Shapiro Test for normality shows that we reject the null hypothesis that the data is normally distributed. We will examine age groups between all the countries using T-tests to see where there are differences."
   ]
  },
  {
   "cell_type": "code",
   "execution_count": 107,
   "metadata": {},
   "outputs": [
    {
     "name": "stdout",
     "output_type": "stream",
     "text": [
      "KruskalResult(statistic=10.308387482374066, pvalue=0.01611867529795601)\n",
      "KruskalResult(statistic=7.034631001375862, pvalue=0.07080211784683954)\n",
      "KruskalResult(statistic=9.693566432423426, pvalue=0.02135884557590941)\n",
      "KruskalResult(statistic=36.492800428902534, pvalue=5.890863713055285e-08)\n",
      "KruskalResult(statistic=nan, pvalue=nan)\n"
     ]
    }
   ],
   "source": [
    "# Kruskal-Wallis, a non-parametric version of ANOVA test.\n",
    "\n",
    "# Printing Kruskal test statistic\n",
    "\n",
    "bin_one = country_subset[country_subset['age_groups'] == '15-33']\n",
    "bin_two = country_subset[country_subset['age_groups'] == '34-52']\n",
    "bin_three = country_subset[country_subset['age_groups'] == '53-70']\n",
    "bin_four = country_subset[country_subset['age_groups'] == '71-89']\n",
    "bin_five = country_subset[country_subset['age_groups'] == '89+']\n",
    "\n",
    "bin_list = [bin_one, bin_two, bin_three, bin_four, bin_five]\n",
    "\n",
    "for item in bin_list:\n",
    "    print(kruskal(item[item.cntry == 'CZ'].sclact.dropna(),\n",
    "             item[item.cntry == 'ES'].sclact.dropna(),\n",
    "             item[item.cntry == 'NO'].sclact.dropna(),\n",
    "             item[item.cntry == 'SE'].sclact.dropna()))"
   ]
  },
  {
   "cell_type": "markdown",
   "metadata": {},
   "source": [
    "So we find from the Kruskal result that the differences are meaningful for the first, third, and fourth age group (ages 15-33, 53-70, and 71-89). So now we run T-tests to determine the differences between those countries? "
   ]
  },
  {
   "cell_type": "code",
   "execution_count": 108,
   "metadata": {},
   "outputs": [
    {
     "name": "stdout",
     "output_type": "stream",
     "text": [
      "Age Group 15-33:\n",
      "CZ vs ES: Ttest_indResult(statistic=1.69423650750673, pvalue=0.09091380259507321)\n",
      "CZ vs NO: Ttest_indResult(statistic=-0.6600612596136837, pvalue=0.5096511435108756)\n",
      "CZ vs SE: Ttest_indResult(statistic=-0.508273205808115, pvalue=0.6115491264793835)\n",
      "\n",
      "\n",
      "ES vs NO: Ttest_indResult(statistic=-2.5692570360414804, pvalue=0.010490746766031888)\n",
      "ES vs SE: Ttest_indResult(statistic=-2.544580347072959, pvalue=0.011226121881636223)\n",
      "\n",
      "\n",
      "NO vs SE: Ttest_indResult(statistic=0.21037134705982596, pvalue=0.8334789107026495)\n",
      "\n",
      "\n",
      "\n",
      "Age Group 53-70:\n",
      "CZ vs ES: Ttest_indResult(statistic=1.414281812729049, pvalue=0.1579247826940866)\n",
      "CZ vs NO: Ttest_indResult(statistic=-0.8812918171921037, pvalue=0.3786999223160201)\n",
      "CZ vs SE: Ttest_indResult(statistic=-1.254367702045251, pvalue=0.21034538798504948)\n",
      "\n",
      "\n",
      "ES vs NO: Ttest_indResult(statistic=-2.347294053529447, pvalue=0.019304144492609775)\n",
      "ES vs SE: Ttest_indResult(statistic=-2.874580076719594, pvalue=0.004198826921310374)\n",
      "\n",
      "\n",
      "NO vs SE: Ttest_indResult(statistic=-0.3562078307863807, pvalue=0.7218440904189234)\n",
      "\n",
      "\n",
      "\n",
      "Age Group 71-89:\n",
      "CZ vs ES: Ttest_indResult(statistic=1.1339821135467258, pvalue=0.25830171635801724)\n",
      "CZ vs NO: Ttest_indResult(statistic=-2.5280360588740813, pvalue=0.012930591761027205)\n",
      "CZ vs SE: Ttest_indResult(statistic=-2.550958599015221, pvalue=0.011604066635738515)\n",
      "\n",
      "\n",
      "ES vs NO: Ttest_indResult(statistic=-4.589425152686169, pvalue=7.6074047430624485e-06)\n",
      "ES vs SE: Ttest_indResult(statistic=-5.4025694464112775, pvalue=1.408968158139741e-07)\n",
      "\n",
      "\n",
      "NO vs SE: Ttest_indResult(statistic=0.27737584720164477, pvalue=0.7817710347362871)\n",
      "\n",
      "\n",
      "\n"
     ]
    }
   ],
   "source": [
    "bin_one = country_subset[country_subset['age_groups'] == '15-33']\n",
    "bin_two = country_subset[country_subset['age_groups'] == '34-52']\n",
    "bin_three = country_subset[country_subset['age_groups'] == '53-70']\n",
    "bin_four = country_subset[country_subset['age_groups'] == '71-89']\n",
    "bin_five = country_subset[country_subset['age_groups'] == '89+']\n",
    "\n",
    "print(\"Age Group 15-33:\")\n",
    "print('CZ vs ES:', ttest_ind(bin_one[bin_one.cntry == 'CZ'].sclact.dropna(),\n",
    "                             bin_one[bin_one.cntry=='ES'].sclact.dropna()))\n",
    "print('CZ vs NO:', ttest_ind(bin_one[bin_one.cntry == 'CZ'].sclact.dropna(),\n",
    "                             bin_one[bin_one.cntry=='NO'].sclact.dropna()))\n",
    "print('CZ vs SE:', ttest_ind(bin_one[bin_one.cntry == 'CZ'].sclact.dropna(),\n",
    "                             bin_one[bin_one.cntry=='SE'].sclact.dropna()))\n",
    "print('\\n')\n",
    "print('ES vs NO:', ttest_ind(bin_one[bin_one.cntry == 'ES'].sclact.dropna(),\n",
    "                             bin_one[bin_one.cntry=='NO'].sclact.dropna()))\n",
    "print('ES vs SE:', ttest_ind(bin_one[bin_one.cntry == 'ES'].sclact.dropna(),\n",
    "                             bin_one[bin_one.cntry=='SE'].sclact.dropna()))\n",
    "print('\\n')\n",
    "print('NO vs SE:', ttest_ind(bin_one[bin_one.cntry == 'NO'].sclact.dropna(),\n",
    "                             bin_one[bin_one.cntry=='SE'].sclact.dropna()))\n",
    "print('\\n\\n')\n",
    "print('Age Group 53-70:')\n",
    "print('CZ vs ES:', ttest_ind(bin_three[bin_three.cntry == 'CZ'].sclact.dropna(),\n",
    "                             bin_three[bin_three.cntry=='ES'].sclact.dropna()))\n",
    "print('CZ vs NO:', ttest_ind(bin_three[bin_three.cntry == 'CZ'].sclact.dropna(),\n",
    "                             bin_three[bin_three.cntry=='NO'].sclact.dropna()))\n",
    "print('CZ vs SE:', ttest_ind(bin_three[bin_three.cntry == 'CZ'].sclact.dropna(),\n",
    "                             bin_three[bin_three.cntry=='SE'].sclact.dropna()))\n",
    "print('\\n')\n",
    "print('ES vs NO:', ttest_ind(bin_three[bin_three.cntry == 'ES'].sclact.dropna(),\n",
    "                             bin_three[bin_three.cntry=='NO'].sclact.dropna()))\n",
    "print('ES vs SE:', ttest_ind(bin_three[bin_three.cntry == 'ES'].sclact.dropna(),\n",
    "                             bin_three[bin_three.cntry=='SE'].sclact.dropna()))\n",
    "print('\\n')\n",
    "print('NO vs SE:', ttest_ind(bin_three[bin_three.cntry == 'NO'].sclact.dropna(),\n",
    "                             bin_three[bin_three.cntry=='SE'].sclact.dropna()))\n",
    "print('\\n\\n')\n",
    "print('Age Group 71-89:')\n",
    "print('CZ vs ES:', ttest_ind(bin_four[bin_four.cntry == 'CZ'].sclact.dropna(),\n",
    "                             bin_four[bin_four.cntry=='ES'].sclact.dropna()))\n",
    "print('CZ vs NO:', ttest_ind(bin_four[bin_four.cntry == 'CZ'].sclact.dropna(),\n",
    "                             bin_four[bin_four.cntry=='NO'].sclact.dropna()))\n",
    "print('CZ vs SE:', ttest_ind(bin_four[bin_four.cntry == 'CZ'].sclact.dropna(),\n",
    "                             bin_four[bin_four.cntry=='SE'].sclact.dropna()))\n",
    "print('\\n')\n",
    "print('ES vs NO:', ttest_ind(bin_four[bin_four.cntry == 'ES'].sclact.dropna(),\n",
    "                             bin_four[bin_four.cntry=='NO'].sclact.dropna()))\n",
    "print('ES vs SE:', ttest_ind(bin_four[bin_four.cntry == 'ES'].sclact.dropna(),\n",
    "                             bin_four[bin_four.cntry=='SE'].sclact.dropna()))\n",
    "print('\\n')\n",
    "print('NO vs SE:', ttest_ind(bin_four[bin_four.cntry == 'NO'].sclact.dropna(),\n",
    "                             bin_four[bin_four.cntry=='SE'].sclact.dropna()))\n",
    "print('\\n\\n')"
   ]
  },
  {
   "cell_type": "markdown",
   "metadata": {},
   "source": [
    "**Answer** By age group, here are the results of the test:\n",
    "\n",
    "* Between the ages of 15-33 we are unable to reject the null hypothesis except between **Spain and Norway** and **Spain and Sweden**.\n",
    "\n",
    "* Between the ages of 53-70, there is significant difference only between **Spain and Norway** and **Spain and Sweden**\n",
    "\n",
    "* In the age group 71-89, there is significant statistical difference between the **Czech Republic and Norway** as well as the **Czech Republic and Sweden**. "
   ]
  },
  {
   "cell_type": "markdown",
   "metadata": {},
   "source": [
    "#### Below is an attempt to optimize the T-test permutations and is a work in progress. Disregard"
   ]
  },
  {
   "cell_type": "code",
   "execution_count": null,
   "metadata": {},
   "outputs": [],
   "source": [
    "# Trying to make a function to optimize the t-tests above (to be worked on)\n",
    "\n",
    "fist list.pop(czech republic) and appending the second list until you get down to spain and then go backwards\n",
    "\n",
    "        \n",
    "        \n",
    "\n",
    "print(\"Age Group 15-33:\")\n",
    "print('CZ vs ES:', ttest_ind(bin_one[bin_one.cntry == 'CZ'].sclact.dropna(),\n",
    "                             bin_one[bin_one.cntry=='ES'].sclact.dropna()))\n",
    "print('CZ vs NO:', ttest_ind(bin_one[bin_one.cntry == 'CZ'].sclact.dropna(),\n",
    "                             bin_one[bin_one.cntry=='NO'].sclact.dropna()))\n",
    "print('CZ vs SE:', ttest_ind(bin_one[bin_one.cntry == 'CZ'].sclact.dropna(),\n",
    "                             bin_one[bin_one.cntry=='SE'].sclact.dropna()))\n",
    "print('\\n')\n",
    "print('ES vs NO:', ttest_ind(bin_one[bin_one.cntry == 'ES'].sclact.dropna(),\n",
    "                             bin_one[bin_one.cntry=='NO'].sclact.dropna()))\n",
    "print('ES vs SE:', ttest_ind(bin_one[bin_one.cntry == 'ES'].sclact.dropna(),\n",
    "                             bin_one[bin_one.cntry=='SE'].sclact.dropna()))\n",
    "print('\\n')\n",
    "print('NO vs SE:', ttest_ind(bin_one[bin_one.cntry == 'NO'].sclact.dropna(),\n",
    "                             bin_one[bin_one.cntry=='SE'].sclact.dropna()))\n",
    "print('\\n\\n')"
   ]
  },
  {
   "cell_type": "code",
   "execution_count": 102,
   "metadata": {},
   "outputs": [
    {
     "name": "stdout",
     "output_type": "stream",
     "text": [
      "Age Group 15-33\n"
     ]
    },
    {
     "ename": "TypeError",
     "evalue": "list indices must be integers or slices, not str",
     "output_type": "error",
     "traceback": [
      "\u001b[0;31m---------------------------------------------------------------------------\u001b[0m",
      "\u001b[0;31mTypeError\u001b[0m                                 Traceback (most recent call last)",
      "\u001b[0;32m<ipython-input-102-fb2b09175389>\u001b[0m in \u001b[0;36m<module>\u001b[0;34m\u001b[0m\n\u001b[1;32m      8\u001b[0m         \u001b[0;32mfor\u001b[0m \u001b[0mcntry\u001b[0m \u001b[0;32min\u001b[0m \u001b[0mcountries\u001b[0m\u001b[0;34m:\u001b[0m\u001b[0;34m\u001b[0m\u001b[0;34m\u001b[0m\u001b[0m\n\u001b[1;32m      9\u001b[0m             \u001b[0;32mfor\u001b[0m \u001b[0mi\u001b[0m \u001b[0;32min\u001b[0m \u001b[0mrange\u001b[0m \u001b[0;34m(\u001b[0m\u001b[0;36m0\u001b[0m\u001b[0;34m,\u001b[0m \u001b[0mlen\u001b[0m\u001b[0;34m(\u001b[0m\u001b[0mcountries\u001b[0m\u001b[0;34m)\u001b[0m\u001b[0;34m)\u001b[0m\u001b[0;34m:\u001b[0m\u001b[0;34m\u001b[0m\u001b[0;34m\u001b[0m\u001b[0m\n\u001b[0;32m---> 10\u001b[0;31m                 print(\"{} vs {}:\".format(countries[i],countries[cntry]), ttest_indbin_one[bin_one.cntry == countries[i]].sclact.dropna(),\n\u001b[0m\u001b[1;32m     11\u001b[0m                              bin_one[bin_one.cntry == countries[i+1]].sclact.dropna())\n\u001b[1;32m     12\u001b[0m         \u001b[0mcountries\u001b[0m\u001b[0;34m.\u001b[0m\u001b[0mpop\u001b[0m\u001b[0;34m(\u001b[0m\u001b[0mcountries\u001b[0m\u001b[0;34m[\u001b[0m\u001b[0;36m0\u001b[0m\u001b[0;34m]\u001b[0m\u001b[0;34m)\u001b[0m\u001b[0;34m\u001b[0m\u001b[0;34m\u001b[0m\u001b[0m\n",
      "\u001b[0;31mTypeError\u001b[0m: list indices must be integers or slices, not str"
     ]
    }
   ],
   "source": [
    "ages = ['15-33', '34-52', '53-70', '71-89']\n",
    "\n",
    "for age in ages:\n",
    "    print(\"Age Group \" + age)\n",
    "    countries = ['CZ','ES','NO','SE']\n",
    "    while len(countries)>1:\n",
    "        age_bin = country_subset[country_subset['age_groups'] == age]\n",
    "        for cntry in countries:\n",
    "            for i in range (0, len(countries)):\n",
    "                print(\"{} vs {}:\".format(countries[i],countries[cntry]), ttest_indbin_one[bin_one.cntry == countries[i]].sclact.dropna(),\n",
    "                             bin_one[bin_one.cntry == countries[i+1]].sclact.dropna())\n",
    "        countries.pop(countries[0])\n",
    "        \n",
    "        \n",
    "        "
   ]
  },
  {
   "cell_type": "code",
   "execution_count": 104,
   "metadata": {},
   "outputs": [],
   "source": [
    "from itertools import combinations"
   ]
  },
  {
   "cell_type": "code",
   "execution_count": 105,
   "metadata": {},
   "outputs": [],
   "source": [
    "ages = ['15-33', '34-52', '53-70', '71-89']\n",
    "\n",
    "for age in ages:\n",
    "    combinations(countries,2)\n",
    "    "
   ]
  },
  {
   "cell_type": "code",
   "execution_count": null,
   "metadata": {},
   "outputs": [],
   "source": []
  }
 ],
 "metadata": {
  "kernelspec": {
   "display_name": "Python 3",
   "language": "python",
   "name": "python3"
  },
  "language_info": {
   "codemirror_mode": {
    "name": "ipython",
    "version": 3
   },
   "file_extension": ".py",
   "mimetype": "text/x-python",
   "name": "python",
   "nbconvert_exporter": "python",
   "pygments_lexer": "ipython3",
   "version": "3.7.2"
  }
 },
 "nbformat": 4,
 "nbformat_minor": 2
}
