{
 "cells": [
  {
   "cell_type": "code",
   "execution_count": 1,
   "metadata": {},
   "outputs": [],
   "source": [
    "import time\n",
    "import random\n",
    "\n",
    "# Set seed.\n",
    "random.seed(a=100)\n",
    "\n",
    "# Create our default lists.\n",
    "\n",
    "heap_short_list = list(random.sample(range(1000000), 10))\n",
    "heap_long_list = list(random.sample(range(1000000), 10000))\n",
    "\n",
    "selection_short_list = list(random.sample(range(1000000), 10))\n",
    "selection_long_list = list(random.sample(range(1000000), 10000))\n",
    "\n",
    "quick_short_list = list(random.sample(range(1000000), 10))\n",
    "quick_long_list = list(random.sample(range(1000000), 10000))\n",
    "\n",
    "py_short_list = list(random.sample(range(1000000), 10))\n",
    "py_long_list = list(random.sample(range(1000000), 10000))"
   ]
  },
  {
   "cell_type": "markdown",
   "metadata": {},
   "source": [
    "## Heap Sort"
   ]
  },
  {
   "cell_type": "code",
   "execution_count": 5,
   "metadata": {},
   "outputs": [],
   "source": [
    "# Your Code Here:\n",
    "\n",
    "def heap_sort(s):                               \n",
    "    sl = len(s)                                    \n",
    "\n",
    "    def swap(pi, ci):                              \n",
    "        if s[pi] < s[ci]:                          \n",
    "            s[pi], s[ci] = s[ci], s[pi]            \n",
    "\n",
    "    def sift(pi, unsorted):                        \n",
    "        i_gt = lambda a, b: a if s[a] > s[b] else b\n",
    "        while pi*2+2 < unsorted:                   \n",
    "            gtci = i_gt(pi*2+1, pi*2+2)            \n",
    "            swap(pi, gtci)                         \n",
    "            pi = gtci                              \n",
    "    # heapify                                      \n",
    "    for i in range((sl//2)-1, -1, -1):              \n",
    "        sift(i, sl)                                \n",
    "    # sort                                         \n",
    "    for i in range(sl-1, 0, -1):                   \n",
    "        swap(i, 0)                                 \n",
    "        sift(0, i)"
   ]
  },
  {
   "cell_type": "code",
   "execution_count": 6,
   "metadata": {},
   "outputs": [
    {
     "name": "stdout",
     "output_type": "stream",
     "text": [
      "[152745, 481850, 477025, 997948, 808225, 183236, 739784, 412125, 767514, 366725]\n"
     ]
    }
   ],
   "source": [
    "print(heap_short_list)"
   ]
  },
  {
   "cell_type": "code",
   "execution_count": 7,
   "metadata": {},
   "outputs": [
    {
     "name": "stdout",
     "output_type": "stream",
     "text": [
      "--- 7.486343383789062e-05 seconds ---\n",
      "[152745, 183236, 366725, 412125, 477025, 481850, 739784, 767514, 808225, 997948]\n"
     ]
    }
   ],
   "source": [
    "# Start Timer\n",
    "start_time = time.time()\n",
    "\n",
    "# Sort the default list. Note that .sort() will sort in place, which would alter default_list\n",
    "heap_sort(heap_short_list)\n",
    "\n",
    "# Print time to show runtime\n",
    "heap_time = time.time() - start_time\n",
    "print(\"--- %s seconds ---\" % (heap_time))\n",
    "print(heap_short_list)"
   ]
  },
  {
   "cell_type": "code",
   "execution_count": 8,
   "metadata": {},
   "outputs": [
    {
     "name": "stdout",
     "output_type": "stream",
     "text": [
      "--- 9.608268737792969e-05 seconds ---\n",
      "[152745, 183236, 366725, 412125, 477025, 481850, 739784, 767514, 808225, 997948]\n"
     ]
    }
   ],
   "source": [
    "# Start Timer\n",
    "start_time = time.time()\n",
    "\n",
    "# Sort the default list. Note that .sort() will sort in place, which would alter default_list.\n",
    "heap_sort(heap_short_list)\n",
    "\n",
    "# Print time to show runtime\n",
    "heap_time = time.time() - start_time\n",
    "print(\"--- %s seconds ---\" % (heap_time))\n",
    "print(heap_short_list)"
   ]
  },
  {
   "cell_type": "code",
   "execution_count": 9,
   "metadata": {},
   "outputs": [
    {
     "name": "stdout",
     "output_type": "stream",
     "text": [
      "--- 0.11097598075866699 seconds ---\n"
     ]
    }
   ],
   "source": [
    "# Start Timer\n",
    "start_time = time.time()\n",
    "\n",
    "# Sort the default list. Note that .sort() will sort in place, which would alter default_list.\n",
    "heap_sort(heap_long_list)\n",
    "\n",
    "# Print time to show runtime\n",
    "print(\"--- %s seconds ---\" % (time.time() - start_time))"
   ]
  },
  {
   "cell_type": "code",
   "execution_count": null,
   "metadata": {},
   "outputs": [],
   "source": []
  }
 ],
 "metadata": {
  "kernelspec": {
   "display_name": "Python 3",
   "language": "python",
   "name": "python3"
  },
  "language_info": {
   "codemirror_mode": {
    "name": "ipython",
    "version": 3
   },
   "file_extension": ".py",
   "mimetype": "text/x-python",
   "name": "python",
   "nbconvert_exporter": "python",
   "pygments_lexer": "ipython3",
   "version": "3.7.2"
  }
 },
 "nbformat": 4,
 "nbformat_minor": 2
}
